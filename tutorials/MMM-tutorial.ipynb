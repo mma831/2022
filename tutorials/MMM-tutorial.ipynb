{
 "cells": [
  {
   "cell_type": "markdown",
   "metadata": {},
   "source": [
    "# Marketing Mix Model"
   ]
  },
  {
   "cell_type": "code",
   "execution_count": null,
   "metadata": {
    "_cell_guid": "b1076dfc-b9ad-4769-8c92-a6c4dae69d19",
    "_uuid": "8f2839f25d086af736a60e9eeb907d3b93b6e0e5"
   },
   "outputs": [],
   "source": [
    "# import packages\n",
    "import numpy as np # linear algebra\n",
    "import pandas as pd # data processing, CSV file I/O (e.g. pd.read_csv)\n",
    "import matplotlib.pyplot as plt #for ploting things\n",
    "import seaborn as sns #more plots\n",
    "import os #simple OS / directory functionality"
   ]
  },
  {
   "cell_type": "code",
   "execution_count": null,
   "metadata": {
    "_cell_guid": "79c7e3d0-c299-4dcb-8224-4455121ee9b0",
    "_uuid": "d629ff2d2480ee46fbb7e2d37f6b5fab8052498a"
   },
   "outputs": [],
   "source": [
    "#Import data\n",
    "df = pd.read_csv(\"../2022-MMA831-Python/data/MMM_adv_sales.csv\")\n",
    "df.head()"
   ]
  },
  {
   "cell_type": "code",
   "execution_count": null,
   "metadata": {
    "_uuid": "9d9ec0d2d9f80e26f04fc71fccc92fd2b48db3c3"
   },
   "outputs": [],
   "source": [
    "#remove extra 'Unnamed' column\n",
    "df_clean = df.loc[:, ~df.columns.str.contains('^Unnamed')]\n",
    "df_clean.head()"
   ]
  },
  {
   "cell_type": "code",
   "execution_count": null,
   "metadata": {
    "_uuid": "e3dfc54a64dd97d93b24ba320c3f716cd4945d0a"
   },
   "outputs": [],
   "source": [
    "#Data Description \n",
    "df_clean.describe()"
   ]
  },
  {
   "cell_type": "code",
   "execution_count": null,
   "metadata": {
    "_uuid": "ba5bcf6bfdb494aa3c53e725eba848762649b797"
   },
   "outputs": [],
   "source": [
    "#Correlation b/w variables\n",
    "corr = df_clean.corr()\n",
    "sns.heatmap(corr)"
   ]
  },
  {
   "cell_type": "code",
   "execution_count": null,
   "metadata": {
    "_uuid": "9d3d09883d9de8a680b483ed07cbfaa7e9b7cc3d"
   },
   "outputs": [],
   "source": [
    "#Seperate label and features\n",
    "labels = df_clean['sales']\n",
    "features = df_clean.drop(['sales'], axis=1)"
   ]
  },
  {
   "cell_type": "code",
   "execution_count": null,
   "metadata": {
    "_uuid": "56dd3957ba66b4cab2ceb93de2395e5faf5a48c3"
   },
   "outputs": [],
   "source": [
    "# Create scatter plot showing Sales vs TV\n",
    "plt.plot(labels, features[\"TV\"], 'ro')\n",
    "plt.title(\"Sales vs TV\")\n",
    "plt.xlabel(\"TV\")\n",
    "plt.ylabel(\"sales\")\n",
    "plt.show()\n"
   ]
  },
  {
   "cell_type": "code",
   "execution_count": null,
   "metadata": {},
   "outputs": [],
   "source": [
    "#Now, try use the template below to create a for loop we don't have to copy-paste code to create similar plots for other features for x in featues\n",
    "for X in features:\n",
    "    #<copy-paste code from above, except replace \"TV\" with X>\n",
    "    plt.plot(labels, features[X], 'ro') \n",
    "    plt.title(\"Sales vs \" + X)\n",
    "    plt.xlabel(X)\n",
    "    plt.ylabel(\"sales\")\n",
    "    plt.show()"
   ]
  },
  {
   "cell_type": "code",
   "execution_count": null,
   "metadata": {
    "_uuid": "1ff44e086aaceb70f04a23a63cd081b3fd16a2ef"
   },
   "outputs": [],
   "source": [
    "#Data Distribultion \n",
    "#this \n",
    "plt.hist(features[\"TV\"], bins=50)\n",
    "plt.title(\"TV\")\n",
    "plt.show()\n"
   ]
  },
  {
   "cell_type": "code",
   "execution_count": null,
   "metadata": {},
   "outputs": [],
   "source": [
    "#Data Distribultion -- use similar approach to get data dist for each variables \n",
    "for X in features:\n",
    "    plt.hist(features[X], bins=25)\n",
    "    plt.title(X)\n",
    "    plt.show()"
   ]
  },
  {
   "cell_type": "code",
   "execution_count": null,
   "metadata": {},
   "outputs": [],
   "source": [
    "#lets create a new column that is log of newspaper \n",
    "df_clean['newspaper_log'] = np.log(df_clean['newspaper'])\n"
   ]
  },
  {
   "cell_type": "code",
   "execution_count": null,
   "metadata": {},
   "outputs": [],
   "source": [
    "df_clean"
   ]
  },
  {
   "cell_type": "code",
   "execution_count": null,
   "metadata": {},
   "outputs": [],
   "source": [
    "plt.hist(df_clean['newspaper_log'], bins=25)  # arguments are passed to np.histogram\n",
    "plt.title(\"Newspaper after log transformation\")\n",
    "plt.show()"
   ]
  },
  {
   "cell_type": "code",
   "execution_count": null,
   "metadata": {},
   "outputs": [],
   "source": [
    "# Now lets fit a simple regression -- let's try one with all variables"
   ]
  },
  {
   "cell_type": "code",
   "execution_count": null,
   "metadata": {
    "_uuid": "dfcc09c071d33a4322d4983544e7a83effaef6a2"
   },
   "outputs": [],
   "source": [
    "import statsmodels.formula.api as sm\n",
    "model1 = sm.ols(formula=\"sales~TV+radio+newspaper_log\", data=df_clean).fit()\n",
    "print(model1.summary())\n"
   ]
  },
  {
   "cell_type": "code",
   "execution_count": null,
   "metadata": {},
   "outputs": [],
   "source": [
    "# What do we notice? What is relationship b/w newspaper_log and Sales? \n",
    "# Looks like its not contributing to the model. Let's try plotting Newspaper vs. Sales and also building another model with out it"
   ]
  },
  {
   "cell_type": "code",
   "execution_count": null,
   "metadata": {},
   "outputs": [],
   "source": [
    "#Plot sales vs. newspaper -- see if it confirms what we saw in regression (i.e. no strong relationship with sales)\n",
    "plt.plot(df_clean['sales'], df_clean['newspaper_log'], 'ro')  # arguments are passed to np.histogram\n",
    "plt.title(\"Scatter plot b/w sales and newspaper\")\n",
    "plt.xlabel(\"Newspaper\")\n",
    "plt.ylabel(\"Sales\")\n",
    "plt.show()"
   ]
  },
  {
   "cell_type": "code",
   "execution_count": null,
   "metadata": {},
   "outputs": [],
   "source": [
    "#this time we fit the regression without newspaper \n",
    "model2 = sm.ols(formula=\"sales~TV+radio\", data=df_clean).fit()\n",
    "print(model2.summary())"
   ]
  },
  {
   "cell_type": "code",
   "execution_count": null,
   "metadata": {},
   "outputs": [],
   "source": [
    "#What do we notice -- did R-square change when we removed newspaper"
   ]
  },
  {
   "cell_type": "code",
   "execution_count": null,
   "metadata": {},
   "outputs": [],
   "source": []
  },
  {
   "cell_type": "code",
   "execution_count": null,
   "metadata": {
    "_uuid": "61f00f1d159abd0a15a5a76d2e6fc4e7a3717c16"
   },
   "outputs": [],
   "source": [
    "#Actual and predicted values\n",
    "y_pred = model2.predict()\n",
    "df1 = pd.DataFrame({'Actual': labels, 'Predicted': y_pred})  \n",
    "df1.head(10)"
   ]
  }
 ],
 "metadata": {
  "kernelspec": {
   "display_name": "Python 3 (ipykernel)",
   "language": "python",
   "name": "python3"
  },
  "language_info": {
   "codemirror_mode": {
    "name": "ipython",
    "version": 3
   },
   "file_extension": ".py",
   "mimetype": "text/x-python",
   "name": "python",
   "nbconvert_exporter": "python",
   "pygments_lexer": "ipython3",
   "version": "3.9.12"
  }
 },
 "nbformat": 4,
 "nbformat_minor": 4
}
