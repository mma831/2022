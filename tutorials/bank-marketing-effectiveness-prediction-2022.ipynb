{
 "cells": [
  {
   "cell_type": "markdown",
   "id": "d85c4167",
   "metadata": {
    "papermill": {
     "duration": 0.017855,
     "end_time": "2022-08-13T12:11:37.284818",
     "exception": false,
     "start_time": "2022-08-13T12:11:37.266963",
     "status": "completed"
    },
    "tags": []
   },
   "source": [
    "# ***BANK MARKETING EFFECTIVENESS***"
   ]
  },
  {
   "cell_type": "markdown",
   "id": "e90cd24c",
   "metadata": {
    "papermill": {
     "duration": 0.01476,
     "end_time": "2022-08-13T12:11:37.315689",
     "exception": false,
     "start_time": "2022-08-13T12:11:37.300929",
     "status": "completed"
    },
    "tags": []
   },
   "source": [
    "**TERM DEPOSIT**\n",
    "* A term deposit is a type of deposit account held at a financial institution where money is locked up for some set period of time. \n",
    "* Term deposits are usually short-term deposits with maturities ranging from one month to a few years."
   ]
  },
  {
   "cell_type": "markdown",
   "id": "587b7581",
   "metadata": {
    "papermill": {
     "duration": 0.014783,
     "end_time": "2022-08-13T12:11:37.345547",
     "exception": false,
     "start_time": "2022-08-13T12:11:37.330764",
     "status": "completed"
    },
    "tags": []
   },
   "source": [
    "**AIM**\n",
    "* PREDICT WHICH CUSTOMERS ARE MOST LIKELY TO OPEN A NEW TERM DEPOSIT (1 = Yes, 0 = No)"
   ]
  },
  {
   "cell_type": "markdown",
   "id": "22dfc87d",
   "metadata": {
    "papermill": {
     "duration": 0.014843,
     "end_time": "2022-08-13T12:11:37.375587",
     "exception": false,
     "start_time": "2022-08-13T12:11:37.360744",
     "status": "completed"
    },
    "tags": []
   },
   "source": [
    "**What we do**\n",
    "\n",
    "* Load data, do some EDA, data viz etc. \n",
    "* Preprocess, scale/normalize, and then Test/train split\n",
    "* Train 3 classifiers - LogReg, decision tree, random forest\n",
    "* Understand confusion matrix, precision, recall, accuracy\n",
    "* Plot ROC curve and calculate AUC"
   ]
  },
  {
   "cell_type": "code",
   "execution_count": 154,
   "id": "7a24ce41",
   "metadata": {
    "execution": {
     "iopub.execute_input": "2022-08-13T12:11:37.407229Z",
     "iopub.status.busy": "2022-08-13T12:11:37.406831Z",
     "iopub.status.idle": "2022-08-13T12:11:38.990738Z",
     "shell.execute_reply": "2022-08-13T12:11:38.989625Z"
    },
    "papermill": {
     "duration": 1.602837,
     "end_time": "2022-08-13T12:11:38.993418",
     "exception": false,
     "start_time": "2022-08-13T12:11:37.390581",
     "status": "completed"
    },
    "tags": []
   },
   "outputs": [],
   "source": [
    "#importing the libraries \n",
    "\n",
    "import numpy as np\n",
    "import pandas as pd\n",
    "import matplotlib.pyplot as plt\n",
    "import seaborn as sns\n",
    "\n",
    "\n",
    "from sklearn.model_selection import train_test_split\n",
    "from sklearn.preprocessing import StandardScaler\n",
    "from sklearn.model_selection import cross_val_score\n",
    "\n",
    "\n",
    "from sklearn.model_selection import GridSearchCV\n",
    "from sklearn.ensemble import RandomForestClassifier\n",
    "from xgboost import XGBClassifier\n",
    "\n",
    "\n",
    "from sklearn.metrics import confusion_matrix\n",
    "\n",
    "#if you don't have some of these you may need to pip install them"
   ]
  },
  {
   "cell_type": "code",
   "execution_count": 155,
   "id": "18639449",
   "metadata": {
    "execution": {
     "iopub.execute_input": "2022-08-13T12:11:39.025022Z",
     "iopub.status.busy": "2022-08-13T12:11:39.024628Z",
     "iopub.status.idle": "2022-08-13T12:11:39.104365Z",
     "shell.execute_reply": "2022-08-13T12:11:39.103209Z"
    },
    "papermill": {
     "duration": 0.098565,
     "end_time": "2022-08-13T12:11:39.106955",
     "exception": false,
     "start_time": "2022-08-13T12:11:39.008390",
     "status": "completed"
    },
    "tags": []
   },
   "outputs": [
    {
     "data": {
      "text/html": [
       "<div>\n",
       "<style scoped>\n",
       "    .dataframe tbody tr th:only-of-type {\n",
       "        vertical-align: middle;\n",
       "    }\n",
       "\n",
       "    .dataframe tbody tr th {\n",
       "        vertical-align: top;\n",
       "    }\n",
       "\n",
       "    .dataframe thead th {\n",
       "        text-align: right;\n",
       "    }\n",
       "</style>\n",
       "<table border=\"1\" class=\"dataframe\">\n",
       "  <thead>\n",
       "    <tr style=\"text-align: right;\">\n",
       "      <th></th>\n",
       "      <th>age</th>\n",
       "      <th>job</th>\n",
       "      <th>marital</th>\n",
       "      <th>education</th>\n",
       "      <th>default</th>\n",
       "      <th>balance</th>\n",
       "      <th>housing</th>\n",
       "      <th>loan</th>\n",
       "      <th>contact</th>\n",
       "      <th>day</th>\n",
       "      <th>month</th>\n",
       "      <th>duration</th>\n",
       "      <th>campaign</th>\n",
       "      <th>pdays</th>\n",
       "      <th>previous</th>\n",
       "      <th>poutcome</th>\n",
       "      <th>deposit</th>\n",
       "    </tr>\n",
       "  </thead>\n",
       "  <tbody>\n",
       "    <tr>\n",
       "      <th>0</th>\n",
       "      <td>59</td>\n",
       "      <td>admin.</td>\n",
       "      <td>married</td>\n",
       "      <td>secondary</td>\n",
       "      <td>no</td>\n",
       "      <td>2343</td>\n",
       "      <td>yes</td>\n",
       "      <td>no</td>\n",
       "      <td>unknown</td>\n",
       "      <td>5</td>\n",
       "      <td>may</td>\n",
       "      <td>1042</td>\n",
       "      <td>1</td>\n",
       "      <td>-1</td>\n",
       "      <td>0</td>\n",
       "      <td>unknown</td>\n",
       "      <td>yes</td>\n",
       "    </tr>\n",
       "    <tr>\n",
       "      <th>1</th>\n",
       "      <td>56</td>\n",
       "      <td>admin.</td>\n",
       "      <td>married</td>\n",
       "      <td>secondary</td>\n",
       "      <td>no</td>\n",
       "      <td>45</td>\n",
       "      <td>no</td>\n",
       "      <td>no</td>\n",
       "      <td>unknown</td>\n",
       "      <td>5</td>\n",
       "      <td>may</td>\n",
       "      <td>1467</td>\n",
       "      <td>1</td>\n",
       "      <td>-1</td>\n",
       "      <td>0</td>\n",
       "      <td>unknown</td>\n",
       "      <td>yes</td>\n",
       "    </tr>\n",
       "    <tr>\n",
       "      <th>2</th>\n",
       "      <td>41</td>\n",
       "      <td>technician</td>\n",
       "      <td>married</td>\n",
       "      <td>secondary</td>\n",
       "      <td>no</td>\n",
       "      <td>1270</td>\n",
       "      <td>yes</td>\n",
       "      <td>no</td>\n",
       "      <td>unknown</td>\n",
       "      <td>5</td>\n",
       "      <td>may</td>\n",
       "      <td>1389</td>\n",
       "      <td>1</td>\n",
       "      <td>-1</td>\n",
       "      <td>0</td>\n",
       "      <td>unknown</td>\n",
       "      <td>yes</td>\n",
       "    </tr>\n",
       "    <tr>\n",
       "      <th>3</th>\n",
       "      <td>55</td>\n",
       "      <td>services</td>\n",
       "      <td>married</td>\n",
       "      <td>secondary</td>\n",
       "      <td>no</td>\n",
       "      <td>2476</td>\n",
       "      <td>yes</td>\n",
       "      <td>no</td>\n",
       "      <td>unknown</td>\n",
       "      <td>5</td>\n",
       "      <td>may</td>\n",
       "      <td>579</td>\n",
       "      <td>1</td>\n",
       "      <td>-1</td>\n",
       "      <td>0</td>\n",
       "      <td>unknown</td>\n",
       "      <td>yes</td>\n",
       "    </tr>\n",
       "    <tr>\n",
       "      <th>4</th>\n",
       "      <td>54</td>\n",
       "      <td>admin.</td>\n",
       "      <td>married</td>\n",
       "      <td>tertiary</td>\n",
       "      <td>no</td>\n",
       "      <td>184</td>\n",
       "      <td>no</td>\n",
       "      <td>no</td>\n",
       "      <td>unknown</td>\n",
       "      <td>5</td>\n",
       "      <td>may</td>\n",
       "      <td>673</td>\n",
       "      <td>2</td>\n",
       "      <td>-1</td>\n",
       "      <td>0</td>\n",
       "      <td>unknown</td>\n",
       "      <td>yes</td>\n",
       "    </tr>\n",
       "  </tbody>\n",
       "</table>\n",
       "</div>"
      ],
      "text/plain": [
       "   age         job  marital  education default  balance housing loan  contact  \\\n",
       "0   59      admin.  married  secondary      no     2343     yes   no  unknown   \n",
       "1   56      admin.  married  secondary      no       45      no   no  unknown   \n",
       "2   41  technician  married  secondary      no     1270     yes   no  unknown   \n",
       "3   55    services  married  secondary      no     2476     yes   no  unknown   \n",
       "4   54      admin.  married   tertiary      no      184      no   no  unknown   \n",
       "\n",
       "   day month  duration  campaign  pdays  previous poutcome deposit  \n",
       "0    5   may      1042         1     -1         0  unknown     yes  \n",
       "1    5   may      1467         1     -1         0  unknown     yes  \n",
       "2    5   may      1389         1     -1         0  unknown     yes  \n",
       "3    5   may       579         1     -1         0  unknown     yes  \n",
       "4    5   may       673         2     -1         0  unknown     yes  "
      ]
     },
     "execution_count": 155,
     "metadata": {},
     "output_type": "execute_result"
    }
   ],
   "source": [
    "df =pd.read_csv('/Users/mm679j/Documents/2022-MMA831-Python/data/bank.csv')\n",
    "df.head(5)"
   ]
  },
  {
   "cell_type": "markdown",
   "id": "090a2901",
   "metadata": {
    "papermill": {
     "duration": 0.01493,
     "end_time": "2022-08-13T12:11:39.137559",
     "exception": false,
     "start_time": "2022-08-13T12:11:39.122629",
     "status": "completed"
    },
    "tags": []
   },
   "source": [
    "# EDA *(Exploratory Data Analysis)*"
   ]
  },
  {
   "cell_type": "code",
   "execution_count": 156,
   "id": "6311de32",
   "metadata": {
    "execution": {
     "iopub.execute_input": "2022-08-13T12:11:39.170996Z",
     "iopub.status.busy": "2022-08-13T12:11:39.169917Z",
     "iopub.status.idle": "2022-08-13T12:11:39.176309Z",
     "shell.execute_reply": "2022-08-13T12:11:39.175341Z"
    },
    "papermill": {
     "duration": 0.025142,
     "end_time": "2022-08-13T12:11:39.178470",
     "exception": false,
     "start_time": "2022-08-13T12:11:39.153328",
     "status": "completed"
    },
    "tags": []
   },
   "outputs": [
    {
     "data": {
      "text/plain": [
       "(11162, 17)"
      ]
     },
     "execution_count": 156,
     "metadata": {},
     "output_type": "execute_result"
    }
   ],
   "source": [
    "df.shape"
   ]
  },
  {
   "cell_type": "code",
   "execution_count": 157,
   "id": "f6c58871",
   "metadata": {
    "execution": {
     "iopub.execute_input": "2022-08-13T12:11:39.212038Z",
     "iopub.status.busy": "2022-08-13T12:11:39.211359Z",
     "iopub.status.idle": "2022-08-13T12:11:39.217304Z",
     "shell.execute_reply": "2022-08-13T12:11:39.216526Z"
    },
    "papermill": {
     "duration": 0.025012,
     "end_time": "2022-08-13T12:11:39.219453",
     "exception": false,
     "start_time": "2022-08-13T12:11:39.194441",
     "status": "completed"
    },
    "tags": []
   },
   "outputs": [
    {
     "data": {
      "text/plain": [
       "Index(['age', 'job', 'marital', 'education', 'default', 'balance', 'housing',\n",
       "       'loan', 'contact', 'day', 'month', 'duration', 'campaign', 'pdays',\n",
       "       'previous', 'poutcome', 'deposit'],\n",
       "      dtype='object')"
      ]
     },
     "execution_count": 157,
     "metadata": {},
     "output_type": "execute_result"
    }
   ],
   "source": [
    "df.columns"
   ]
  },
  {
   "cell_type": "code",
   "execution_count": 158,
   "id": "e2cdc0da",
   "metadata": {
    "execution": {
     "iopub.execute_input": "2022-08-13T12:11:39.252686Z",
     "iopub.status.busy": "2022-08-13T12:11:39.251997Z",
     "iopub.status.idle": "2022-08-13T12:11:39.267768Z",
     "shell.execute_reply": "2022-08-13T12:11:39.266643Z"
    },
    "papermill": {
     "duration": 0.03517,
     "end_time": "2022-08-13T12:11:39.270281",
     "exception": false,
     "start_time": "2022-08-13T12:11:39.235111",
     "status": "completed"
    },
    "tags": []
   },
   "outputs": [
    {
     "data": {
      "text/plain": [
       "Index(['job', 'marital', 'education', 'default', 'housing', 'loan', 'contact',\n",
       "       'month', 'poutcome', 'deposit'],\n",
       "      dtype='object')"
      ]
     },
     "execution_count": 158,
     "metadata": {},
     "output_type": "execute_result"
    }
   ],
   "source": [
    "cat_features = df.select_dtypes('object').columns\n",
    "cat_features"
   ]
  },
  {
   "cell_type": "code",
   "execution_count": 159,
   "id": "423df65f",
   "metadata": {
    "execution": {
     "iopub.execute_input": "2022-08-13T12:11:39.304249Z",
     "iopub.status.busy": "2022-08-13T12:11:39.303472Z",
     "iopub.status.idle": "2022-08-13T12:11:39.323785Z",
     "shell.execute_reply": "2022-08-13T12:11:39.322155Z"
    },
    "papermill": {
     "duration": 0.040845,
     "end_time": "2022-08-13T12:11:39.326674",
     "exception": false,
     "start_time": "2022-08-13T12:11:39.285829",
     "status": "completed"
    },
    "tags": []
   },
   "outputs": [
    {
     "name": "stdout",
     "output_type": "stream",
     "text": [
      "*All categorical features and their distinct values* \n",
      "\n",
      "job  -->  ['admin.' 'technician' 'services' 'management' 'retired' 'blue-collar'\n",
      " 'unemployed' 'entrepreneur' 'housemaid' 'unknown' 'self-employed'\n",
      " 'student']\n",
      "\n",
      "marital  -->  ['married' 'single' 'divorced']\n",
      "\n",
      "education  -->  ['secondary' 'tertiary' 'primary' 'unknown']\n",
      "\n",
      "default  -->  ['no' 'yes']\n",
      "\n",
      "housing  -->  ['yes' 'no']\n",
      "\n",
      "loan  -->  ['no' 'yes']\n",
      "\n",
      "contact  -->  ['unknown' 'cellular' 'telephone']\n",
      "\n",
      "month  -->  ['may' 'jun' 'jul' 'aug' 'oct' 'nov' 'dec' 'jan' 'feb' 'mar' 'apr' 'sep']\n",
      "\n",
      "poutcome  -->  ['unknown' 'other' 'failure' 'success']\n",
      "\n",
      "deposit  -->  ['yes' 'no']\n",
      "\n"
     ]
    }
   ],
   "source": [
    "print('*All categorical features and their distinct values* \\n')\n",
    "for c in cat_features:\n",
    "    \n",
    "    print(c , ' --> ',df[c].unique())\n",
    "    print()\n",
    "   "
   ]
  },
  {
   "cell_type": "code",
   "execution_count": null,
   "id": "512c057a",
   "metadata": {
    "papermill": {
     "duration": 0.015244,
     "end_time": "2022-08-13T12:11:39.358240",
     "exception": false,
     "start_time": "2022-08-13T12:11:39.342996",
     "status": "completed"
    },
    "tags": []
   },
   "outputs": [],
   "source": []
  },
  {
   "cell_type": "code",
   "execution_count": 160,
   "id": "5f0eab1e",
   "metadata": {
    "execution": {
     "iopub.execute_input": "2022-08-13T12:11:39.391903Z",
     "iopub.status.busy": "2022-08-13T12:11:39.390820Z",
     "iopub.status.idle": "2022-08-13T12:11:39.432462Z",
     "shell.execute_reply": "2022-08-13T12:11:39.431220Z"
    },
    "papermill": {
     "duration": 0.060875,
     "end_time": "2022-08-13T12:11:39.434891",
     "exception": false,
     "start_time": "2022-08-13T12:11:39.374016",
     "status": "completed"
    },
    "tags": []
   },
   "outputs": [
    {
     "data": {
      "text/html": [
       "<div>\n",
       "<style scoped>\n",
       "    .dataframe tbody tr th:only-of-type {\n",
       "        vertical-align: middle;\n",
       "    }\n",
       "\n",
       "    .dataframe tbody tr th {\n",
       "        vertical-align: top;\n",
       "    }\n",
       "\n",
       "    .dataframe thead th {\n",
       "        text-align: right;\n",
       "    }\n",
       "</style>\n",
       "<table border=\"1\" class=\"dataframe\">\n",
       "  <thead>\n",
       "    <tr style=\"text-align: right;\">\n",
       "      <th></th>\n",
       "      <th>count</th>\n",
       "      <th>mean</th>\n",
       "      <th>std</th>\n",
       "      <th>min</th>\n",
       "      <th>25%</th>\n",
       "      <th>50%</th>\n",
       "      <th>75%</th>\n",
       "      <th>max</th>\n",
       "    </tr>\n",
       "  </thead>\n",
       "  <tbody>\n",
       "    <tr>\n",
       "      <th>age</th>\n",
       "      <td>11162.0</td>\n",
       "      <td>41.231948</td>\n",
       "      <td>11.913369</td>\n",
       "      <td>18.0</td>\n",
       "      <td>32.0</td>\n",
       "      <td>39.0</td>\n",
       "      <td>49.00</td>\n",
       "      <td>95.0</td>\n",
       "    </tr>\n",
       "    <tr>\n",
       "      <th>balance</th>\n",
       "      <td>11162.0</td>\n",
       "      <td>1528.538524</td>\n",
       "      <td>3225.413326</td>\n",
       "      <td>-6847.0</td>\n",
       "      <td>122.0</td>\n",
       "      <td>550.0</td>\n",
       "      <td>1708.00</td>\n",
       "      <td>81204.0</td>\n",
       "    </tr>\n",
       "    <tr>\n",
       "      <th>day</th>\n",
       "      <td>11162.0</td>\n",
       "      <td>15.658036</td>\n",
       "      <td>8.420740</td>\n",
       "      <td>1.0</td>\n",
       "      <td>8.0</td>\n",
       "      <td>15.0</td>\n",
       "      <td>22.00</td>\n",
       "      <td>31.0</td>\n",
       "    </tr>\n",
       "    <tr>\n",
       "      <th>duration</th>\n",
       "      <td>11162.0</td>\n",
       "      <td>371.993818</td>\n",
       "      <td>347.128386</td>\n",
       "      <td>2.0</td>\n",
       "      <td>138.0</td>\n",
       "      <td>255.0</td>\n",
       "      <td>496.00</td>\n",
       "      <td>3881.0</td>\n",
       "    </tr>\n",
       "    <tr>\n",
       "      <th>campaign</th>\n",
       "      <td>11162.0</td>\n",
       "      <td>2.508421</td>\n",
       "      <td>2.722077</td>\n",
       "      <td>1.0</td>\n",
       "      <td>1.0</td>\n",
       "      <td>2.0</td>\n",
       "      <td>3.00</td>\n",
       "      <td>63.0</td>\n",
       "    </tr>\n",
       "    <tr>\n",
       "      <th>pdays</th>\n",
       "      <td>11162.0</td>\n",
       "      <td>51.330407</td>\n",
       "      <td>108.758282</td>\n",
       "      <td>-1.0</td>\n",
       "      <td>-1.0</td>\n",
       "      <td>-1.0</td>\n",
       "      <td>20.75</td>\n",
       "      <td>854.0</td>\n",
       "    </tr>\n",
       "    <tr>\n",
       "      <th>previous</th>\n",
       "      <td>11162.0</td>\n",
       "      <td>0.832557</td>\n",
       "      <td>2.292007</td>\n",
       "      <td>0.0</td>\n",
       "      <td>0.0</td>\n",
       "      <td>0.0</td>\n",
       "      <td>1.00</td>\n",
       "      <td>58.0</td>\n",
       "    </tr>\n",
       "  </tbody>\n",
       "</table>\n",
       "</div>"
      ],
      "text/plain": [
       "            count         mean          std     min    25%    50%      75%  \\\n",
       "age       11162.0    41.231948    11.913369    18.0   32.0   39.0    49.00   \n",
       "balance   11162.0  1528.538524  3225.413326 -6847.0  122.0  550.0  1708.00   \n",
       "day       11162.0    15.658036     8.420740     1.0    8.0   15.0    22.00   \n",
       "duration  11162.0   371.993818   347.128386     2.0  138.0  255.0   496.00   \n",
       "campaign  11162.0     2.508421     2.722077     1.0    1.0    2.0     3.00   \n",
       "pdays     11162.0    51.330407   108.758282    -1.0   -1.0   -1.0    20.75   \n",
       "previous  11162.0     0.832557     2.292007     0.0    0.0    0.0     1.00   \n",
       "\n",
       "              max  \n",
       "age          95.0  \n",
       "balance   81204.0  \n",
       "day          31.0  \n",
       "duration   3881.0  \n",
       "campaign     63.0  \n",
       "pdays       854.0  \n",
       "previous     58.0  "
      ]
     },
     "execution_count": 160,
     "metadata": {},
     "output_type": "execute_result"
    }
   ],
   "source": [
    "df.describe().T"
   ]
  },
  {
   "cell_type": "code",
   "execution_count": 161,
   "id": "89c74843",
   "metadata": {
    "execution": {
     "iopub.execute_input": "2022-08-13T12:11:39.469179Z",
     "iopub.status.busy": "2022-08-13T12:11:39.468383Z",
     "iopub.status.idle": "2022-08-13T12:11:39.482646Z",
     "shell.execute_reply": "2022-08-13T12:11:39.481626Z"
    },
    "papermill": {
     "duration": 0.034062,
     "end_time": "2022-08-13T12:11:39.484993",
     "exception": false,
     "start_time": "2022-08-13T12:11:39.450931",
     "status": "completed"
    },
    "tags": []
   },
   "outputs": [
    {
     "data": {
      "text/plain": [
       "age          0\n",
       "job          0\n",
       "marital      0\n",
       "education    0\n",
       "default      0\n",
       "balance      0\n",
       "housing      0\n",
       "loan         0\n",
       "contact      0\n",
       "day          0\n",
       "month        0\n",
       "duration     0\n",
       "campaign     0\n",
       "pdays        0\n",
       "previous     0\n",
       "poutcome     0\n",
       "deposit      0\n",
       "dtype: int64"
      ]
     },
     "execution_count": 161,
     "metadata": {},
     "output_type": "execute_result"
    }
   ],
   "source": [
    "#checking for NULL\n",
    "df.isnull().sum()"
   ]
  },
  {
   "cell_type": "markdown",
   "id": "4886e338",
   "metadata": {
    "papermill": {
     "duration": 0.016213,
     "end_time": "2022-08-13T12:11:39.517537",
     "exception": false,
     "start_time": "2022-08-13T12:11:39.501324",
     "status": "completed"
    },
    "tags": []
   },
   "source": [
    "# *DATA VISUALISATION*"
   ]
  },
  {
   "cell_type": "code",
   "execution_count": 162,
   "id": "5ee7b70e",
   "metadata": {
    "execution": {
     "iopub.execute_input": "2022-08-13T12:11:39.556854Z",
     "iopub.status.busy": "2022-08-13T12:11:39.556310Z",
     "iopub.status.idle": "2022-08-13T12:11:40.636641Z",
     "shell.execute_reply": "2022-08-13T12:11:40.635782Z"
    },
    "papermill": {
     "duration": 1.103235,
     "end_time": "2022-08-13T12:11:40.639646",
     "exception": false,
     "start_time": "2022-08-13T12:11:39.536411",
     "status": "completed"
    },
    "scrolled": true,
    "tags": []
   },
   "outputs": [
    {
     "name": "stderr",
     "output_type": "stream",
     "text": [
      "/Users/mm679j/anaconda3/lib/python3.9/site-packages/seaborn/distributions.py:2619: FutureWarning: `distplot` is a deprecated function and will be removed in a future version. Please adapt your code to use either `displot` (a figure-level function with similar flexibility) or `histplot` (an axes-level function for histograms).\n",
      "  warnings.warn(msg, FutureWarning)\n",
      "/Users/mm679j/anaconda3/lib/python3.9/site-packages/seaborn/_decorators.py:36: FutureWarning: Pass the following variable as a keyword arg: x. From version 0.12, the only valid positional argument will be `data`, and passing other arguments without an explicit keyword will result in an error or misinterpretation.\n",
      "  warnings.warn(\n"
     ]
    },
    {
     "data": {
      "image/png": "[encoded data removed]",
      "text/plain": [
       "<Figure size 936x720 with 4 Axes>"
      ]
     },
     "metadata": {
      "needs_background": "light"
     },
     "output_type": "display_data"
    }
   ],
   "source": [
    "plt.figure(figsize = (13 ,10))\n",
    "\n",
    "plt.subplot(2,2,1)\n",
    "sns.distplot(df['age'] ,color ='b')\n",
    "plt.title('Age Distribution')\n",
    "\n",
    "plt.subplot(2,2,2)\n",
    "sns.countplot(df['marital'] ,hue =df['deposit'] ,color ='r')\n",
    "plt.title('Marital Status')\n",
    "\n",
    "plt.subplot(2,2,3)\n",
    "plt.pie(df['education'].value_counts() ,labels =['secondary', 'tertiary', 'primary', 'unknown'],colors =['r','pink','b' ,'m'] ,autopct ='%.2f' ,explode =[0 ,0.05,0,0] ,shadow=.5 ,radius =1.1  )\n",
    "plt.legend()\n",
    "plt.title('Education Status'  )\n",
    "\n",
    "plt.subplot(2,2,4)\n",
    "plt.pie(df['default'].value_counts() ,labels =['no' ,'yes'],colors =['m' ,'c'] ,autopct ='%.2f' ,explode =[0 ,0.5] ,shadow=.5 ,radius =1.1  )\n",
    "plt.title('Default')\n",
    "\n",
    "plt.tight_layout()"
   ]
  },
  {
   "cell_type": "code",
   "execution_count": 163,
   "id": "7de17e92",
   "metadata": {
    "execution": {
     "iopub.execute_input": "2022-08-13T12:11:40.679043Z",
     "iopub.status.busy": "2022-08-13T12:11:40.678344Z",
     "iopub.status.idle": "2022-08-13T12:11:40.941959Z",
     "shell.execute_reply": "2022-08-13T12:11:40.940832Z"
    },
    "papermill": {
     "duration": 0.287592,
     "end_time": "2022-08-13T12:11:40.944824",
     "exception": false,
     "start_time": "2022-08-13T12:11:40.657232",
     "status": "completed"
    },
    "tags": []
   },
   "outputs": [
    {
     "name": "stderr",
     "output_type": "stream",
     "text": [
      "/Users/mm679j/anaconda3/lib/python3.9/site-packages/seaborn/_decorators.py:36: FutureWarning: Pass the following variable as a keyword arg: x. From version 0.12, the only valid positional argument will be `data`, and passing other arguments without an explicit keyword will result in an error or misinterpretation.\n",
      "  warnings.warn(\n"
     ]
    },
    {
     "data": {
      "text/plain": [
       "<AxesSubplot:title={'center':'Job Status'}, xlabel='job', ylabel='count'>"
      ]
     },
     "execution_count": 163,
     "metadata": {},
     "output_type": "execute_result"
    },
    {
     "data": {
      "image/png": "[encoded data removed]",
      "text/plain": [
       "<Figure size 1080x360 with 1 Axes>"
      ]
     },
     "metadata": {
      "needs_background": "light"
     },
     "output_type": "display_data"
    }
   ],
   "source": [
    "plt.figure(figsize =(15 ,5))\n",
    "plt.title('Job Status')\n",
    "sns.countplot(df['job'])\n"
   ]
  },
  {
   "cell_type": "code",
   "execution_count": 164,
   "id": "e655a1ac",
   "metadata": {
    "execution": {
     "iopub.execute_input": "2022-08-13T12:11:42.670702Z",
     "iopub.status.busy": "2022-08-13T12:11:42.670309Z",
     "iopub.status.idle": "2022-08-13T12:11:43.501207Z",
     "shell.execute_reply": "2022-08-13T12:11:43.500016Z"
    },
    "papermill": {
     "duration": 0.854879,
     "end_time": "2022-08-13T12:11:43.503842",
     "exception": false,
     "start_time": "2022-08-13T12:11:42.648963",
     "status": "completed"
    },
    "tags": []
   },
   "outputs": [
    {
     "name": "stderr",
     "output_type": "stream",
     "text": [
      "/Users/mm679j/anaconda3/lib/python3.9/site-packages/seaborn/distributions.py:2619: FutureWarning: `distplot` is a deprecated function and will be removed in a future version. Please adapt your code to use either `displot` (a figure-level function with similar flexibility) or `histplot` (an axes-level function for histograms).\n",
      "  warnings.warn(msg, FutureWarning)\n",
      "/Users/mm679j/anaconda3/lib/python3.9/site-packages/seaborn/distributions.py:2619: FutureWarning: `distplot` is a deprecated function and will be removed in a future version. Please adapt your code to use either `displot` (a figure-level function with similar flexibility) or `histplot` (an axes-level function for histograms).\n",
      "  warnings.warn(msg, FutureWarning)\n"
     ]
    },
    {
     "data": {
      "text/plain": [
       "<AxesSubplot:xlabel='duration', ylabel='Density'>"
      ]
     },
     "execution_count": 164,
     "metadata": {},
     "output_type": "execute_result"
    },
    {
     "data": {
      "image/png": "[encoded data removed]",
      "text/plain": [
       "<Figure size 1008x360 with 2 Axes>"
      ]
     },
     "metadata": {
      "needs_background": "light"
     },
     "output_type": "display_data"
    }
   ],
   "source": [
    "plt.figure(figsize = (14 ,5))\n",
    "plt.subplot(1,2,1)\n",
    "sns.distplot(df['balance'],color ='m')\n",
    "plt.subplot(1,2,2)\n",
    "sns.distplot(df['duration'] ,color ='r')"
   ]
  },
  {
   "cell_type": "markdown",
   "id": "b1c81536",
   "metadata": {
    "papermill": {
     "duration": 0.022547,
     "end_time": "2022-08-13T12:11:45.574463",
     "exception": false,
     "start_time": "2022-08-13T12:11:45.551916",
     "status": "completed"
    },
    "tags": []
   },
   "source": [
    "**CORRELATION MATRIX**"
   ]
  },
  {
   "cell_type": "code",
   "execution_count": 165,
   "id": "4195a641",
   "metadata": {
    "execution": {
     "iopub.execute_input": "2022-08-13T12:11:45.621217Z",
     "iopub.status.busy": "2022-08-13T12:11:45.620449Z",
     "iopub.status.idle": "2022-08-13T12:11:46.120541Z",
     "shell.execute_reply": "2022-08-13T12:11:46.119388Z"
    },
    "papermill": {
     "duration": 0.52621,
     "end_time": "2022-08-13T12:11:46.122966",
     "exception": false,
     "start_time": "2022-08-13T12:11:45.596756",
     "status": "completed"
    },
    "tags": []
   },
   "outputs": [
    {
     "data": {
      "text/plain": [
       "<AxesSubplot:>"
      ]
     },
     "execution_count": 165,
     "metadata": {},
     "output_type": "execute_result"
    },
    {
     "data": {
      "image/png": "[encoded data removed]",
      "text/plain": [
       "<Figure size 864x864 with 2 Axes>"
      ]
     },
     "metadata": {
      "needs_background": "light"
     },
     "output_type": "display_data"
    }
   ],
   "source": [
    "#corelation matrix\n",
    "plt.figure(figsize = (12,12))\n",
    "correlation = df.corr()\n",
    "sns.heatmap(correlation ,annot =True ,cmap ='CMRmap' )"
   ]
  },
  {
   "cell_type": "markdown",
   "id": "a3a72058",
   "metadata": {
    "papermill": {
     "duration": 0.022595,
     "end_time": "2022-08-13T12:11:46.168523",
     "exception": false,
     "start_time": "2022-08-13T12:11:46.145928",
     "status": "completed"
    },
    "tags": []
   },
   "source": [
    "***OUTCOME OF EDA AND  DATA VISUALISATION***"
   ]
  },
  {
   "cell_type": "markdown",
   "id": "69430be9",
   "metadata": {
    "papermill": {
     "duration": 0.022911,
     "end_time": "2022-08-13T12:11:46.214368",
     "exception": false,
     "start_time": "2022-08-13T12:11:46.191457",
     "status": "completed"
    },
    "tags": []
   },
   "source": [
    "**After EDA we found**\n",
    "* ***No missing values***\n",
    "* ***default feature donot play any significant imp role***\n",
    "* ****We found some Outliers in the features (age , balance ,duration , pdays and  previous)****"
   ]
  },
  {
   "cell_type": "markdown",
   "id": "aaebd556",
   "metadata": {
    "papermill": {
     "duration": 0.022609,
     "end_time": "2022-08-13T12:11:46.259897",
     "exception": false,
     "start_time": "2022-08-13T12:11:46.237288",
     "status": "completed"
    },
    "tags": []
   },
   "source": [
    "# ***FEATURE ENGINEERING***"
   ]
  },
  {
   "cell_type": "markdown",
   "id": "4aa07d94",
   "metadata": {
    "papermill": {
     "duration": 0.024289,
     "end_time": "2022-08-13T12:11:47.122661",
     "exception": false,
     "start_time": "2022-08-13T12:11:47.098372",
     "status": "completed"
    },
    "tags": []
   },
   "source": [
    "***CATEGORICAL FEATURE ENCODING***"
   ]
  },
  {
   "cell_type": "code",
   "execution_count": 166,
   "id": "5591b69e",
   "metadata": {
    "execution": {
     "iopub.execute_input": "2022-08-13T12:11:47.173284Z",
     "iopub.status.busy": "2022-08-13T12:11:47.172487Z",
     "iopub.status.idle": "2022-08-13T12:11:47.183822Z",
     "shell.execute_reply": "2022-08-13T12:11:47.182700Z"
    },
    "papermill": {
     "duration": 0.039538,
     "end_time": "2022-08-13T12:11:47.186238",
     "exception": false,
     "start_time": "2022-08-13T12:11:47.146700",
     "status": "completed"
    },
    "tags": []
   },
   "outputs": [
    {
     "data": {
      "text/plain": [
       "Index(['job', 'marital', 'education', 'default', 'housing', 'loan', 'contact',\n",
       "       'month', 'poutcome', 'deposit'],\n",
       "      dtype='object')"
      ]
     },
     "execution_count": 166,
     "metadata": {},
     "output_type": "execute_result"
    }
   ],
   "source": [
    "df4= df\n",
    "df4.select_dtypes('object').columns"
   ]
  },
  {
   "cell_type": "code",
   "execution_count": 167,
   "id": "eb9dfbad",
   "metadata": {
    "execution": {
     "iopub.execute_input": "2022-08-13T12:11:47.238094Z",
     "iopub.status.busy": "2022-08-13T12:11:47.237331Z",
     "iopub.status.idle": "2022-08-13T12:11:47.288289Z",
     "shell.execute_reply": "2022-08-13T12:11:47.287303Z"
    },
    "papermill": {
     "duration": 0.079606,
     "end_time": "2022-08-13T12:11:47.291100",
     "exception": false,
     "start_time": "2022-08-13T12:11:47.211494",
     "status": "completed"
    },
    "tags": []
   },
   "outputs": [],
   "source": [
    "cat_cols = ['job', 'marital', 'education' ,'contact', 'month','poutcome']\n",
    "for  col in cat_cols:\n",
    "    df4 =pd.concat([df4.drop(col,axis =1) ,pd.get_dummies(df4[col] ,prefix =col ,drop_first=True ,dummy_na = False)],axis = 1)\n"
   ]
  },
  {
   "cell_type": "code",
   "execution_count": 168,
   "id": "78105a9c",
   "metadata": {
    "execution": {
     "iopub.execute_input": "2022-08-13T12:11:47.360653Z",
     "iopub.status.busy": "2022-08-13T12:11:47.359851Z",
     "iopub.status.idle": "2022-08-13T12:11:47.388481Z",
     "shell.execute_reply": "2022-08-13T12:11:47.387326Z"
    },
    "papermill": {
     "duration": 0.075914,
     "end_time": "2022-08-13T12:11:47.391757",
     "exception": false,
     "start_time": "2022-08-13T12:11:47.315843",
     "status": "completed"
    },
    "tags": []
   },
   "outputs": [],
   "source": [
    "#BOOLEAN TYPE FEATURES (YES /NO)\n",
    "boolean_cols =['housing', 'loan','deposit', 'default']\n",
    "for col in boolean_cols:\n",
    "    df4[col +'_new']  =df4[col].apply(lambda x :1 if x =='yes' else 0)\n",
    "    df4.drop(col ,axis =1 ,inplace = True)\n",
    "\n"
   ]
  },
  {
   "cell_type": "markdown",
   "id": "f55a0839",
   "metadata": {
    "papermill": {
     "duration": 0.024034,
     "end_time": "2022-08-13T12:11:47.440357",
     "exception": false,
     "start_time": "2022-08-13T12:11:47.416323",
     "status": "completed"
    },
    "tags": []
   },
   "source": [
    "***FINAL DATASET***"
   ]
  },
  {
   "cell_type": "code",
   "execution_count": 169,
   "id": "4e787df9",
   "metadata": {
    "execution": {
     "iopub.execute_input": "2022-08-13T12:11:47.567139Z",
     "iopub.status.busy": "2022-08-13T12:11:47.566308Z",
     "iopub.status.idle": "2022-08-13T12:11:47.574973Z",
     "shell.execute_reply": "2022-08-13T12:11:47.573797Z"
    },
    "papermill": {
     "duration": 0.037416,
     "end_time": "2022-08-13T12:11:47.577378",
     "exception": false,
     "start_time": "2022-08-13T12:11:47.539962",
     "status": "completed"
    },
    "scrolled": true,
    "tags": []
   },
   "outputs": [
    {
     "data": {
      "text/html": [
       "<div>\n",
       "<style scoped>\n",
       "    .dataframe tbody tr th:only-of-type {\n",
       "        vertical-align: middle;\n",
       "    }\n",
       "\n",
       "    .dataframe tbody tr th {\n",
       "        vertical-align: top;\n",
       "    }\n",
       "\n",
       "    .dataframe thead th {\n",
       "        text-align: right;\n",
       "    }\n",
       "</style>\n",
       "<table border=\"1\" class=\"dataframe\">\n",
       "  <thead>\n",
       "    <tr style=\"text-align: right;\">\n",
       "      <th></th>\n",
       "      <th>age</th>\n",
       "      <th>balance</th>\n",
       "      <th>day</th>\n",
       "      <th>duration</th>\n",
       "      <th>campaign</th>\n",
       "      <th>pdays</th>\n",
       "      <th>previous</th>\n",
       "      <th>job_blue-collar</th>\n",
       "      <th>job_entrepreneur</th>\n",
       "      <th>job_housemaid</th>\n",
       "      <th>...</th>\n",
       "      <th>month_nov</th>\n",
       "      <th>month_oct</th>\n",
       "      <th>month_sep</th>\n",
       "      <th>poutcome_other</th>\n",
       "      <th>poutcome_success</th>\n",
       "      <th>poutcome_unknown</th>\n",
       "      <th>housing_new</th>\n",
       "      <th>loan_new</th>\n",
       "      <th>deposit_new</th>\n",
       "      <th>default_new</th>\n",
       "    </tr>\n",
       "  </thead>\n",
       "  <tbody>\n",
       "    <tr>\n",
       "      <th>0</th>\n",
       "      <td>59</td>\n",
       "      <td>2343</td>\n",
       "      <td>5</td>\n",
       "      <td>1042</td>\n",
       "      <td>1</td>\n",
       "      <td>-1</td>\n",
       "      <td>0</td>\n",
       "      <td>0</td>\n",
       "      <td>0</td>\n",
       "      <td>0</td>\n",
       "      <td>...</td>\n",
       "      <td>0</td>\n",
       "      <td>0</td>\n",
       "      <td>0</td>\n",
       "      <td>0</td>\n",
       "      <td>0</td>\n",
       "      <td>1</td>\n",
       "      <td>1</td>\n",
       "      <td>0</td>\n",
       "      <td>1</td>\n",
       "      <td>0</td>\n",
       "    </tr>\n",
       "    <tr>\n",
       "      <th>1</th>\n",
       "      <td>56</td>\n",
       "      <td>45</td>\n",
       "      <td>5</td>\n",
       "      <td>1467</td>\n",
       "      <td>1</td>\n",
       "      <td>-1</td>\n",
       "      <td>0</td>\n",
       "      <td>0</td>\n",
       "      <td>0</td>\n",
       "      <td>0</td>\n",
       "      <td>...</td>\n",
       "      <td>0</td>\n",
       "      <td>0</td>\n",
       "      <td>0</td>\n",
       "      <td>0</td>\n",
       "      <td>0</td>\n",
       "      <td>1</td>\n",
       "      <td>0</td>\n",
       "      <td>0</td>\n",
       "      <td>1</td>\n",
       "      <td>0</td>\n",
       "    </tr>\n",
       "    <tr>\n",
       "      <th>2</th>\n",
       "      <td>41</td>\n",
       "      <td>1270</td>\n",
       "      <td>5</td>\n",
       "      <td>1389</td>\n",
       "      <td>1</td>\n",
       "      <td>-1</td>\n",
       "      <td>0</td>\n",
       "      <td>0</td>\n",
       "      <td>0</td>\n",
       "      <td>0</td>\n",
       "      <td>...</td>\n",
       "      <td>0</td>\n",
       "      <td>0</td>\n",
       "      <td>0</td>\n",
       "      <td>0</td>\n",
       "      <td>0</td>\n",
       "      <td>1</td>\n",
       "      <td>1</td>\n",
       "      <td>0</td>\n",
       "      <td>1</td>\n",
       "      <td>0</td>\n",
       "    </tr>\n",
       "    <tr>\n",
       "      <th>3</th>\n",
       "      <td>55</td>\n",
       "      <td>2476</td>\n",
       "      <td>5</td>\n",
       "      <td>579</td>\n",
       "      <td>1</td>\n",
       "      <td>-1</td>\n",
       "      <td>0</td>\n",
       "      <td>0</td>\n",
       "      <td>0</td>\n",
       "      <td>0</td>\n",
       "      <td>...</td>\n",
       "      <td>0</td>\n",
       "      <td>0</td>\n",
       "      <td>0</td>\n",
       "      <td>0</td>\n",
       "      <td>0</td>\n",
       "      <td>1</td>\n",
       "      <td>1</td>\n",
       "      <td>0</td>\n",
       "      <td>1</td>\n",
       "      <td>0</td>\n",
       "    </tr>\n",
       "    <tr>\n",
       "      <th>4</th>\n",
       "      <td>54</td>\n",
       "      <td>184</td>\n",
       "      <td>5</td>\n",
       "      <td>673</td>\n",
       "      <td>2</td>\n",
       "      <td>-1</td>\n",
       "      <td>0</td>\n",
       "      <td>0</td>\n",
       "      <td>0</td>\n",
       "      <td>0</td>\n",
       "      <td>...</td>\n",
       "      <td>0</td>\n",
       "      <td>0</td>\n",
       "      <td>0</td>\n",
       "      <td>0</td>\n",
       "      <td>0</td>\n",
       "      <td>1</td>\n",
       "      <td>0</td>\n",
       "      <td>0</td>\n",
       "      <td>1</td>\n",
       "      <td>0</td>\n",
       "    </tr>\n",
       "    <tr>\n",
       "      <th>...</th>\n",
       "      <td>...</td>\n",
       "      <td>...</td>\n",
       "      <td>...</td>\n",
       "      <td>...</td>\n",
       "      <td>...</td>\n",
       "      <td>...</td>\n",
       "      <td>...</td>\n",
       "      <td>...</td>\n",
       "      <td>...</td>\n",
       "      <td>...</td>\n",
       "      <td>...</td>\n",
       "      <td>...</td>\n",
       "      <td>...</td>\n",
       "      <td>...</td>\n",
       "      <td>...</td>\n",
       "      <td>...</td>\n",
       "      <td>...</td>\n",
       "      <td>...</td>\n",
       "      <td>...</td>\n",
       "      <td>...</td>\n",
       "      <td>...</td>\n",
       "    </tr>\n",
       "    <tr>\n",
       "      <th>11157</th>\n",
       "      <td>33</td>\n",
       "      <td>1</td>\n",
       "      <td>20</td>\n",
       "      <td>257</td>\n",
       "      <td>1</td>\n",
       "      <td>-1</td>\n",
       "      <td>0</td>\n",
       "      <td>1</td>\n",
       "      <td>0</td>\n",
       "      <td>0</td>\n",
       "      <td>...</td>\n",
       "      <td>0</td>\n",
       "      <td>0</td>\n",
       "      <td>0</td>\n",
       "      <td>0</td>\n",
       "      <td>0</td>\n",
       "      <td>1</td>\n",
       "      <td>1</td>\n",
       "      <td>0</td>\n",
       "      <td>0</td>\n",
       "      <td>0</td>\n",
       "    </tr>\n",
       "    <tr>\n",
       "      <th>11158</th>\n",
       "      <td>39</td>\n",
       "      <td>733</td>\n",
       "      <td>16</td>\n",
       "      <td>83</td>\n",
       "      <td>4</td>\n",
       "      <td>-1</td>\n",
       "      <td>0</td>\n",
       "      <td>0</td>\n",
       "      <td>0</td>\n",
       "      <td>0</td>\n",
       "      <td>...</td>\n",
       "      <td>0</td>\n",
       "      <td>0</td>\n",
       "      <td>0</td>\n",
       "      <td>0</td>\n",
       "      <td>0</td>\n",
       "      <td>1</td>\n",
       "      <td>0</td>\n",
       "      <td>0</td>\n",
       "      <td>0</td>\n",
       "      <td>0</td>\n",
       "    </tr>\n",
       "    <tr>\n",
       "      <th>11159</th>\n",
       "      <td>32</td>\n",
       "      <td>29</td>\n",
       "      <td>19</td>\n",
       "      <td>156</td>\n",
       "      <td>2</td>\n",
       "      <td>-1</td>\n",
       "      <td>0</td>\n",
       "      <td>0</td>\n",
       "      <td>0</td>\n",
       "      <td>0</td>\n",
       "      <td>...</td>\n",
       "      <td>0</td>\n",
       "      <td>0</td>\n",
       "      <td>0</td>\n",
       "      <td>0</td>\n",
       "      <td>0</td>\n",
       "      <td>1</td>\n",
       "      <td>0</td>\n",
       "      <td>0</td>\n",
       "      <td>0</td>\n",
       "      <td>0</td>\n",
       "    </tr>\n",
       "    <tr>\n",
       "      <th>11160</th>\n",
       "      <td>43</td>\n",
       "      <td>0</td>\n",
       "      <td>8</td>\n",
       "      <td>9</td>\n",
       "      <td>2</td>\n",
       "      <td>172</td>\n",
       "      <td>5</td>\n",
       "      <td>0</td>\n",
       "      <td>0</td>\n",
       "      <td>0</td>\n",
       "      <td>...</td>\n",
       "      <td>0</td>\n",
       "      <td>0</td>\n",
       "      <td>0</td>\n",
       "      <td>0</td>\n",
       "      <td>0</td>\n",
       "      <td>0</td>\n",
       "      <td>0</td>\n",
       "      <td>1</td>\n",
       "      <td>0</td>\n",
       "      <td>0</td>\n",
       "    </tr>\n",
       "    <tr>\n",
       "      <th>11161</th>\n",
       "      <td>34</td>\n",
       "      <td>0</td>\n",
       "      <td>9</td>\n",
       "      <td>628</td>\n",
       "      <td>1</td>\n",
       "      <td>-1</td>\n",
       "      <td>0</td>\n",
       "      <td>0</td>\n",
       "      <td>0</td>\n",
       "      <td>0</td>\n",
       "      <td>...</td>\n",
       "      <td>0</td>\n",
       "      <td>0</td>\n",
       "      <td>0</td>\n",
       "      <td>0</td>\n",
       "      <td>0</td>\n",
       "      <td>1</td>\n",
       "      <td>0</td>\n",
       "      <td>0</td>\n",
       "      <td>0</td>\n",
       "      <td>0</td>\n",
       "    </tr>\n",
       "  </tbody>\n",
       "</table>\n",
       "<p>11162 rows × 43 columns</p>\n",
       "</div>"
      ],
      "text/plain": [
       "       age  balance  day  duration  campaign  pdays  previous  \\\n",
       "0       59     2343    5      1042         1     -1         0   \n",
       "1       56       45    5      1467         1     -1         0   \n",
       "2       41     1270    5      1389         1     -1         0   \n",
       "3       55     2476    5       579         1     -1         0   \n",
       "4       54      184    5       673         2     -1         0   \n",
       "...    ...      ...  ...       ...       ...    ...       ...   \n",
       "11157   33        1   20       257         1     -1         0   \n",
       "11158   39      733   16        83         4     -1         0   \n",
       "11159   32       29   19       156         2     -1         0   \n",
       "11160   43        0    8         9         2    172         5   \n",
       "11161   34        0    9       628         1     -1         0   \n",
       "\n",
       "       job_blue-collar  job_entrepreneur  job_housemaid  ...  month_nov  \\\n",
       "0                    0                 0              0  ...          0   \n",
       "1                    0                 0              0  ...          0   \n",
       "2                    0                 0              0  ...          0   \n",
       "3                    0                 0              0  ...          0   \n",
       "4                    0                 0              0  ...          0   \n",
       "...                ...               ...            ...  ...        ...   \n",
       "11157                1                 0              0  ...          0   \n",
       "11158                0                 0              0  ...          0   \n",
       "11159                0                 0              0  ...          0   \n",
       "11160                0                 0              0  ...          0   \n",
       "11161                0                 0              0  ...          0   \n",
       "\n",
       "       month_oct  month_sep  poutcome_other  poutcome_success  \\\n",
       "0              0          0               0                 0   \n",
       "1              0          0               0                 0   \n",
       "2              0          0               0                 0   \n",
       "3              0          0               0                 0   \n",
       "4              0          0               0                 0   \n",
       "...          ...        ...             ...               ...   \n",
       "11157          0          0               0                 0   \n",
       "11158          0          0               0                 0   \n",
       "11159          0          0               0                 0   \n",
       "11160          0          0               0                 0   \n",
       "11161          0          0               0                 0   \n",
       "\n",
       "       poutcome_unknown  housing_new  loan_new  deposit_new  default_new  \n",
       "0                     1            1         0            1            0  \n",
       "1                     1            0         0            1            0  \n",
       "2                     1            1         0            1            0  \n",
       "3                     1            1         0            1            0  \n",
       "4                     1            0         0            1            0  \n",
       "...                 ...          ...       ...          ...          ...  \n",
       "11157                 1            1         0            0            0  \n",
       "11158                 1            0         0            0            0  \n",
       "11159                 1            0         0            0            0  \n",
       "11160                 0            0         1            0            0  \n",
       "11161                 1            0         0            0            0  \n",
       "\n",
       "[11162 rows x 43 columns]"
      ]
     },
     "execution_count": 169,
     "metadata": {},
     "output_type": "execute_result"
    }
   ],
   "source": [
    "df4"
   ]
  },
  {
   "cell_type": "markdown",
   "id": "46986540",
   "metadata": {
    "papermill": {
     "duration": 0.024824,
     "end_time": "2022-08-13T12:11:47.628550",
     "exception": false,
     "start_time": "2022-08-13T12:11:47.603726",
     "status": "completed"
    },
    "tags": []
   },
   "source": [
    "**TEST/TRAIN SPLIT**\n"
   ]
  },
  {
   "cell_type": "code",
   "execution_count": 170,
   "id": "cce799a9",
   "metadata": {
    "execution": {
     "iopub.execute_input": "2022-08-13T12:11:47.730278Z",
     "iopub.status.busy": "2022-08-13T12:11:47.729820Z",
     "iopub.status.idle": "2022-08-13T12:11:47.742503Z",
     "shell.execute_reply": "2022-08-13T12:11:47.741540Z"
    },
    "papermill": {
     "duration": 0.041709,
     "end_time": "2022-08-13T12:11:47.745064",
     "exception": false,
     "start_time": "2022-08-13T12:11:47.703355",
     "status": "completed"
    },
    "tags": []
   },
   "outputs": [],
   "source": [
    "from sklearn.model_selection import train_test_split\n",
    "x= df4.drop(['deposit_new'],axis =1)\n",
    "y= df4['deposit_new']\n",
    "x_train , x_test , y_train , y_test = train_test_split(x ,y, test_size = 0.2 , random_state = 51)"
   ]
  },
  {
   "cell_type": "code",
   "execution_count": 171,
   "id": "0ace2a72",
   "metadata": {
    "execution": {
     "iopub.execute_input": "2022-08-13T12:11:47.797820Z",
     "iopub.status.busy": "2022-08-13T12:11:47.797020Z",
     "iopub.status.idle": "2022-08-13T12:11:47.803720Z",
     "shell.execute_reply": "2022-08-13T12:11:47.802324Z"
    },
    "papermill": {
     "duration": 0.035707,
     "end_time": "2022-08-13T12:11:47.806007",
     "exception": false,
     "start_time": "2022-08-13T12:11:47.770300",
     "status": "completed"
    },
    "tags": []
   },
   "outputs": [
    {
     "name": "stdout",
     "output_type": "stream",
     "text": [
      "8929 2233\n"
     ]
    }
   ],
   "source": [
    "print(len(x_train) ,len(x_test))"
   ]
  },
  {
   "cell_type": "markdown",
   "id": "3268c097",
   "metadata": {
    "papermill": {
     "duration": 0.025074,
     "end_time": "2022-08-13T12:11:47.856295",
     "exception": false,
     "start_time": "2022-08-13T12:11:47.831221",
     "status": "completed"
    },
    "tags": []
   },
   "source": [
    "***SCALING THE DATA (STANDARDIZATION)***"
   ]
  },
  {
   "cell_type": "code",
   "execution_count": 172,
   "id": "35e3c6a8",
   "metadata": {
    "execution": {
     "iopub.execute_input": "2022-08-13T12:11:47.909156Z",
     "iopub.status.busy": "2022-08-13T12:11:47.908352Z",
     "iopub.status.idle": "2022-08-13T12:11:47.934691Z",
     "shell.execute_reply": "2022-08-13T12:11:47.933597Z"
    },
    "papermill": {
     "duration": 0.055744,
     "end_time": "2022-08-13T12:11:47.937267",
     "exception": false,
     "start_time": "2022-08-13T12:11:47.881523",
     "status": "completed"
    },
    "tags": []
   },
   "outputs": [],
   "source": [
    "from sklearn.preprocessing import StandardScaler\n",
    "sc =StandardScaler()\n",
    "x_train= sc.fit_transform(x_train)\n",
    "x_test  = sc.transform(x_test)"
   ]
  },
  {
   "cell_type": "code",
   "execution_count": 173,
   "id": "bbb385cb",
   "metadata": {
    "execution": {
     "iopub.execute_input": "2022-08-13T12:11:48.000013Z",
     "iopub.status.busy": "2022-08-13T12:11:47.999024Z",
     "iopub.status.idle": "2022-08-13T12:11:48.007386Z",
     "shell.execute_reply": "2022-08-13T12:11:48.006332Z"
    },
    "papermill": {
     "duration": 0.043432,
     "end_time": "2022-08-13T12:11:48.009744",
     "exception": false,
     "start_time": "2022-08-13T12:11:47.966312",
     "status": "completed"
    },
    "tags": []
   },
   "outputs": [
    {
     "data": {
      "text/plain": [
       "array([[ 1.15083748,  0.1990613 , -0.4308916 , ..., -0.94835811,\n",
       "        -0.38640829, -0.12482927],\n",
       "       [-0.93988713, -0.4214041 ,  0.63741062, ...,  1.05445399,\n",
       "        -0.38640829, -0.12482927],\n",
       "       [-1.44166104, -0.31466711, -1.49919382, ..., -0.94835811,\n",
       "        -0.38640829, -0.12482927],\n",
       "       ...,\n",
       "       [-0.68900018,  0.0267098 , -1.38049357, ...,  1.05445399,\n",
       "        -0.38640829, -0.12482927],\n",
       "       [-0.85625815, -0.55172602,  0.16260963, ...,  1.05445399,\n",
       "        -0.38640829, -0.12482927],\n",
       "       [-1.02351612, -0.33855443,  0.75611087, ..., -0.94835811,\n",
       "        -0.38640829, -0.12482927]])"
      ]
     },
     "execution_count": 173,
     "metadata": {},
     "output_type": "execute_result"
    }
   ],
   "source": [
    "x_train"
   ]
  },
  {
   "cell_type": "markdown",
   "id": "be4e10cf",
   "metadata": {},
   "source": [
    "# *MODEL Training*\n"
   ]
  },
  {
   "cell_type": "markdown",
   "id": "15103f53",
   "metadata": {},
   "source": [
    "### Fit a logistic regression"
   ]
  },
  {
   "cell_type": "code",
   "execution_count": 174,
   "id": "7e377972",
   "metadata": {},
   "outputs": [],
   "source": [
    "# fit a logistic regression \n",
    "from sklearn.linear_model import LogisticRegression\n",
    "\n",
    "# instantiate the model (using the default parameters)\n",
    "logreg = LogisticRegression(random_state=16)\n",
    "\n",
    "# fit the model with data\n",
    "logreg.fit(x_train, y_train)\n",
    "\n",
    "y_pred_logreg = logreg.predict(x_test)"
   ]
  },
  {
   "cell_type": "markdown",
   "id": "e151a2bb",
   "metadata": {},
   "source": [
    "### Look at confusion matrix"
   ]
  },
  {
   "cell_type": "code",
   "execution_count": 175,
   "id": "eed05e8b",
   "metadata": {},
   "outputs": [
    {
     "data": {
      "text/plain": [
       "array([[1014,  186],\n",
       "       [ 199,  834]])"
      ]
     },
     "execution_count": 175,
     "metadata": {},
     "output_type": "execute_result"
    }
   ],
   "source": [
    "# import the metrics class\n",
    "from sklearn import metrics\n",
    "\n",
    "cnf_matrix = metrics.confusion_matrix(y_test, y_pred_logreg)\n",
    "cnf_matrix"
   ]
  },
  {
   "cell_type": "markdown",
   "id": "6da2afd4",
   "metadata": {},
   "source": [
    "#### Visualize confusion matrix"
   ]
  },
  {
   "cell_type": "code",
   "execution_count": 176,
   "id": "086243b9",
   "metadata": {},
   "outputs": [
    {
     "data": {
      "text/plain": [
       "Text(0.5, 257.44, 'Predicted label')"
      ]
     },
     "execution_count": 176,
     "metadata": {},
     "output_type": "execute_result"
    },
    {
     "data": {
      "image/png": "[encoded data removed]",
      "text/plain": [
       "<Figure size 432x288 with 2 Axes>"
      ]
     },
     "metadata": {
      "needs_background": "light"
     },
     "output_type": "display_data"
    }
   ],
   "source": [
    "# import required modules\n",
    "import numpy as np\n",
    "import matplotlib.pyplot as plt\n",
    "import seaborn as sns\n",
    "\n",
    "class_names=[0,1] # name  of classes\n",
    "fig, ax = plt.subplots()\n",
    "tick_marks = np.arange(len(class_names))\n",
    "plt.xticks(tick_marks, class_names)\n",
    "plt.yticks(tick_marks, class_names)\n",
    "# create heatmap\n",
    "sns.heatmap(pd.DataFrame(cnf_matrix), annot=True, cmap=\"YlGnBu\" ,fmt='g')\n",
    "ax.xaxis.set_label_position(\"top\")\n",
    "plt.tight_layout()\n",
    "plt.title('Confusion matrix', y=1.1)\n",
    "plt.ylabel('Actual label')\n",
    "plt.xlabel('Predicted label')"
   ]
  },
  {
   "cell_type": "code",
   "execution_count": null,
   "id": "081cf874",
   "metadata": {},
   "outputs": [],
   "source": []
  },
  {
   "cell_type": "code",
   "execution_count": 177,
   "id": "8f1b5fd9",
   "metadata": {},
   "outputs": [
    {
     "name": "stdout",
     "output_type": "stream",
     "text": [
      "              precision    recall  f1-score   support\n",
      "\n",
      "           0       0.84      0.84      0.84      1200\n",
      "           1       0.82      0.81      0.81      1033\n",
      "\n",
      "    accuracy                           0.83      2233\n",
      "   macro avg       0.83      0.83      0.83      2233\n",
      "weighted avg       0.83      0.83      0.83      2233\n",
      "\n"
     ]
    }
   ],
   "source": [
    "from sklearn.metrics import classification_report\n",
    "print(classification_report(y_test, y_pred_logreg))"
   ]
  },
  {
   "cell_type": "code",
   "execution_count": 178,
   "id": "b31fe981",
   "metadata": {},
   "outputs": [],
   "source": [
    "#Recap/cheat-sheet for precision, recall, accuray etc\n",
    "\n",
    "#Precision - aka - Out of all the positive predicted, what percentage is truly positive.\n",
    "# Precision = TP / TP+FP = 834 / (186+834) = 834/1020 = 0.82\n",
    "\n",
    "# Of all total true positive, what % did we predict to be positive (aka TPR - true positive rate)\n",
    "# Recall = TP / TP+FN = 834 / (834+199) = 834/1033 = 0.807 = 0.81\n",
    "\n",
    "#F1 score - aka harmonic mea of precision and recall - takes into account both FP and FN (good for imbalanced)\n",
    "#F1 = 2*Precision*Recall / (precision + recall) = 2*0.82*0.807 / (0.82+0.807) = 1.32348/1.627 = 0.813\n",
    "\n",
    "#accuracy - % of time we are correct - sum of diagonal / total obs\n",
    "# Accuracy = 1014+834 / 2233 = 1848/2233 = 0.827 = 0.83\n"
   ]
  },
  {
   "cell_type": "markdown",
   "id": "0f82707d",
   "metadata": {},
   "source": [
    "## Second group - you will train DecisionTree\n",
    "Hint: from sklearn.tree import DecisionTreeClassifier, google the rest"
   ]
  },
  {
   "cell_type": "code",
   "execution_count": 179,
   "id": "a980f7af",
   "metadata": {},
   "outputs": [
    {
     "data": {
      "text/plain": [
       "DecisionTreeClassifier(max_depth=3, random_state=42)"
      ]
     },
     "execution_count": 179,
     "metadata": {},
     "output_type": "execute_result"
    }
   ],
   "source": [
    "from sklearn.tree import DecisionTreeClassifier\n",
    "dt = DecisionTreeClassifier(max_depth =3, random_state = 42)\n",
    "dt.fit(x_train, y_train)"
   ]
  },
  {
   "cell_type": "code",
   "execution_count": 180,
   "id": "2400ae67",
   "metadata": {},
   "outputs": [],
   "source": [
    "y_pred_dt = dt.predict(x_test)"
   ]
  },
  {
   "cell_type": "code",
   "execution_count": 146,
   "id": "1d5d5ec2",
   "metadata": {},
   "outputs": [
    {
     "name": "stdout",
     "output_type": "stream",
     "text": [
      "              precision    recall  f1-score   support\n",
      "\n",
      "           0       0.87      0.70      0.78      1200\n",
      "           1       0.72      0.88      0.79      1033\n",
      "\n",
      "    accuracy                           0.78      2233\n",
      "   macro avg       0.79      0.79      0.78      2233\n",
      "weighted avg       0.80      0.78      0.78      2233\n",
      "\n"
     ]
    }
   ],
   "source": [
    "print(classification_report(y_test, y_pred_dt))"
   ]
  },
  {
   "cell_type": "markdown",
   "id": "ae3ff05d",
   "metadata": {},
   "source": [
    "## Third group - you will train Random Forest Classifier\n",
    "Hint: from sklearn.ensemble import RandomForestClassifier, google the rest"
   ]
  },
  {
   "cell_type": "code",
   "execution_count": 147,
   "id": "6236e996",
   "metadata": {},
   "outputs": [],
   "source": [
    "#Import Random Forest Model\n",
    "from sklearn.ensemble import RandomForestClassifier\n",
    "\n",
    "#Create a RF Classifier\n",
    "rf=RandomForestClassifier(n_estimators=100) #number of trees, max_features, \n",
    "# see documentation for full list of tunable parameters - https://scikit-learn.org/stable/modules/generated/sklearn.ensemble.RandomForestClassifier.html\n",
    "# Num of trees (n_estimators = ), # observations, max features (none, sqrt, x%), leaf size (min_sample_leaf),\n",
    "# split criterion (Gini or Entropy for classification, MSE/MAE etc for regression), tree depth, etc.\n",
    "\n",
    "#Train the model using the training sets y_pred=clf.predict(X_test)\n",
    "rf.fit(x_train,y_train)\n",
    "\n",
    "y_pred_rf=rf.predict(x_test)"
   ]
  },
  {
   "cell_type": "code",
   "execution_count": 148,
   "id": "8b7076ee",
   "metadata": {},
   "outputs": [
    {
     "name": "stdout",
     "output_type": "stream",
     "text": [
      "              precision    recall  f1-score   support\n",
      "\n",
      "           0       0.89      0.81      0.85      1200\n",
      "           1       0.80      0.88      0.84      1033\n",
      "\n",
      "    accuracy                           0.85      2233\n",
      "   macro avg       0.85      0.85      0.85      2233\n",
      "weighted avg       0.85      0.85      0.85      2233\n",
      "\n"
     ]
    }
   ],
   "source": [
    "print(classification_report(y_test, y_pred_rf))"
   ]
  },
  {
   "cell_type": "code",
   "execution_count": null,
   "id": "bb17d19e",
   "metadata": {},
   "outputs": [],
   "source": []
  },
  {
   "cell_type": "markdown",
   "id": "a168a913",
   "metadata": {},
   "source": [
    "## AUC of ROC Curve - Receiver Operating Chracterisitc \n",
    "Plot of true positive vs. false positive rate\n"
   ]
  },
  {
   "cell_type": "code",
   "execution_count": 149,
   "id": "c3704a04",
   "metadata": {},
   "outputs": [],
   "source": [
    "# note we don't want to just predict 0 or 1, but actually just predict the probabilities without applying a threshold\n",
    "# therefore we use .predict_proba instead of .predict\n",
    "\n",
    "y_prob_logreg = logreg.predict_proba(x_test)[::,1]  #logreg\n",
    "y_prob_dt = clf.predict_proba(x_test)[::,1]     #decision tree\n",
    "y_prob_rf = rf.predict_proba(x_test)[::,1]      #random forest\n",
    "\n",
    "#get fpr and tpr for each\n",
    "fpr_logreg, tpr_logreg, _ = metrics.roc_curve(y_test,  y_prob_logreg)\n",
    "fpr_dt, tpr_dt, _ = metrics.roc_curve(y_test,  y_prob_dt)\n",
    "fpr_rf, tpr_rf, _ = metrics.roc_curve(y_test,  y_prob_rf)\n",
    "\n",
    "#get AUC for each\n",
    "auc_logreg = metrics.roc_auc_score(y_test, y_prob_logreg)\n",
    "auc_dt = metrics.roc_auc_score(y_test, y_prob_dt)\n",
    "auc_rf = metrics.roc_auc_score(y_test, y_prob_rf)"
   ]
  },
  {
   "cell_type": "markdown",
   "id": "b6448a03",
   "metadata": {},
   "source": [
    "## Plot ROC Curves"
   ]
  },
  {
   "cell_type": "markdown",
   "id": "e01663a3",
   "metadata": {},
   "source": [
    "Logistic regression"
   ]
  },
  {
   "cell_type": "code",
   "execution_count": 150,
   "id": "cc19f416",
   "metadata": {
    "scrolled": true
   },
   "outputs": [
    {
     "data": {
      "image/png": "[encoded data removed]",
      "text/plain": [
       "<Figure size 432x288 with 1 Axes>"
      ]
     },
     "metadata": {
      "needs_background": "light"
     },
     "output_type": "display_data"
    }
   ],
   "source": [
    "# Plot ROC and print AUC for LogReg\n",
    "plt.plot(fpr_logreg,tpr_logreg,label=\"LogReg, auc=\"+str(auc_logreg))\n",
    "plt.legend(loc=4)\n",
    "plt.show()"
   ]
  },
  {
   "cell_type": "markdown",
   "id": "440020dd",
   "metadata": {},
   "source": [
    "Decision tree"
   ]
  },
  {
   "cell_type": "code",
   "execution_count": 151,
   "id": "62822a55",
   "metadata": {},
   "outputs": [
    {
     "data": {
      "image/png": "[encoded data removed]",
      "text/plain": [
       "<Figure size 432x288 with 1 Axes>"
      ]
     },
     "metadata": {
      "needs_background": "light"
     },
     "output_type": "display_data"
    }
   ],
   "source": [
    "# Plot ROC and print AUC for DT\n",
    "plt.plot(fpr_dt,tpr_dt,label=\"DecisionTree, auc=\"+str(auc_dt))\n",
    "plt.legend(loc=4)\n",
    "plt.show()"
   ]
  },
  {
   "cell_type": "markdown",
   "id": "47e67b63",
   "metadata": {},
   "source": [
    "Random forest"
   ]
  },
  {
   "cell_type": "code",
   "execution_count": 153,
   "id": "587278ee",
   "metadata": {},
   "outputs": [
    {
     "data": {
      "image/png": "[encoded data removed]",
      "text/plain": [
       "<Figure size 432x288 with 1 Axes>"
      ]
     },
     "metadata": {
      "needs_background": "light"
     },
     "output_type": "display_data"
    }
   ],
   "source": [
    "# Plot ROC and print AUC for RF\n",
    "plt.plot(fpr_rf,tpr_rf,label=\"LogReg, auc=\"+str(auc_rf))\n",
    "plt.legend(loc=4)\n",
    "plt.show()"
   ]
  }
 ],
 "metadata": {
  "kernelspec": {
   "display_name": "Python 3 (ipykernel)",
   "language": "python",
   "name": "python3"
  },
  "language_info": {
   "codemirror_mode": {
    "name": "ipython",
    "version": 3
   },
   "file_extension": ".py",
   "mimetype": "text/x-python",
   "name": "python",
   "nbconvert_exporter": "python",
   "pygments_lexer": "ipython3",
   "version": "3.9.12"
  },
  "papermill": {
   "default_parameters": {},
   "duration": 635.893539,
   "end_time": "2022-08-13T12:22:03.601046",
   "environment_variables": {},
   "exception": null,
   "input_path": "__notebook__.ipynb",
   "output_path": "__notebook__.ipynb",
   "parameters": {},
   "start_time": "2022-08-13T12:11:27.707507",
   "version": "2.3.4"
  }
 },
 "nbformat": 4,
 "nbformat_minor": 5
}
