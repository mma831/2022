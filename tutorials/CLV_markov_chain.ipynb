{
 "cells": [
  {
   "cell_type": "markdown",
   "id": "bd4d82f5",
   "metadata": {},
   "source": [
    "# CLV - Markov Chain Example"
   ]
  },
  {
   "cell_type": "code",
   "execution_count": 66,
   "id": "d3e1bbb9",
   "metadata": {},
   "outputs": [],
   "source": [
    "import numpy as np\n",
    "import random as rm\n",
    "\n",
    "import pandas as pd\n",
    "import matplotlib.pyplot as plt \n",
    "from numpy.linalg import inv\n",
    "\n",
    "# Import the MarkovChain class from markovchain.py\n",
    "import os\n",
    "import sys\n",
    "\n",
    "pd.set_option('display.float_format', lambda x: '%.5f' % x)\n",
    "\n"
   ]
  },
  {
   "cell_type": "code",
   "execution_count": 42,
   "id": "b79a9c14",
   "metadata": {},
   "outputs": [],
   "source": [
    "## node class\n",
    "import numpy as np\n",
    "import matplotlib.patches as mpatches\n",
    "from matplotlib.collections import PatchCollection\n",
    "import matplotlib.pyplot as plt\n",
    "\n",
    "class Node():\n",
    "\n",
    "    def __init__(\n",
    "        self, center, radius, label,\n",
    "        facecolor='#2693de', edgecolor='#e6e6e6',\n",
    "        ring_facecolor='#a3a3a3', ring_edgecolor='#a3a3a3'\n",
    "        ):\n",
    "        \"\"\"\n",
    "        Initializes a Markov Chain Node(for drawing purposes)\n",
    "        Inputs:\n",
    "            - center : Node (x,y) center\n",
    "            - radius : Node radius\n",
    "            - label  : Node label\n",
    "        \"\"\"\n",
    "        self.center = center\n",
    "        self.radius = radius\n",
    "        self.label  = label\n",
    "\n",
    "        # For convinience: x, y coordinates of the center\n",
    "        self.x = center[0]\n",
    "        self.y = center[1]\n",
    "\n",
    "        # Drawing config\n",
    "        self.node_facecolor = facecolor\n",
    "        self.node_edgecolor = edgecolor\n",
    "\n",
    "        self.ring_facecolor = ring_facecolor\n",
    "        self.ring_edgecolor = ring_edgecolor\n",
    "        self.ring_width = 0.03\n",
    "\n",
    "        self.text_args = {\n",
    "            'ha': 'center',\n",
    "            'va': 'center',\n",
    "            'fontsize': 16\n",
    "        }\n",
    "\n",
    "\n",
    "    def add_circle(self, ax):\n",
    "        \"\"\"\n",
    "        Add the annotated circle for the node\n",
    "        \"\"\"\n",
    "        circle = mpatches.Circle(self.center, self.radius)\n",
    "        p = PatchCollection(\n",
    "            [circle],\n",
    "            edgecolor = self.node_edgecolor,\n",
    "            facecolor = self.node_facecolor\n",
    "        )\n",
    "        ax.add_collection(p)\n",
    "        ax.annotate(\n",
    "            self.label,\n",
    "            xy = self.center,\n",
    "            color = '#ffffff',\n",
    "            **self.text_args\n",
    "        )\n",
    "\n",
    "\n",
    "    def add_self_loop(self, ax, prob=None, direction='up'):\n",
    "        \"\"\"\n",
    "        Draws a self loop\n",
    "        \"\"\"\n",
    "        if direction == 'up':\n",
    "            start = -30\n",
    "            angle = 180\n",
    "            ring_x = self.x\n",
    "            ring_y = self.y + self.radius\n",
    "            prob_y = self.y + 1.3*self.radius\n",
    "            x_cent = ring_x - self.radius + (self.ring_width/2)\n",
    "            y_cent = ring_y - 0.15\n",
    "        else:\n",
    "            start = -210\n",
    "            angle = 0\n",
    "            ring_x = self.x\n",
    "            ring_y = self.y - self.radius\n",
    "            prob_y = self.y - 1.4*self.radius\n",
    "            x_cent = ring_x + self.radius - (self.ring_width/2)\n",
    "            y_cent = ring_y + 0.15\n",
    "\n",
    "        # Add the ring\n",
    "        ring = mpatches.Wedge(\n",
    "            (ring_x, ring_y),\n",
    "            self.radius,\n",
    "            start,\n",
    "            angle,\n",
    "            width = self.ring_width\n",
    "        )\n",
    "        # Add the triangle (arrow)\n",
    "        offset = 0.2\n",
    "        left   = [x_cent - offset, ring_y]\n",
    "        right  = [x_cent + offset, ring_y]\n",
    "        bottom = [(left[0]+right[0])/2., y_cent]\n",
    "        arrow  = plt.Polygon([left, right, bottom, left])\n",
    "\n",
    "        p = PatchCollection(\n",
    "            [ring, arrow],\n",
    "            edgecolor = self.ring_edgecolor,\n",
    "            facecolor = self.ring_facecolor\n",
    "        )\n",
    "        ax.add_collection(p)\n",
    "\n",
    "        # Probability to add?\n",
    "        if prob:\n",
    "            ax.annotate(str(prob), xy=(self.x, prob_y), color='#000000', **self.text_args)\n"
   ]
  },
  {
   "cell_type": "markdown",
   "id": "a06f495a",
   "metadata": {},
   "source": [
    "# markov class"
   ]
  },
  {
   "cell_type": "code",
   "execution_count": 43,
   "id": "3316e661",
   "metadata": {},
   "outputs": [],
   "source": [
    "import numpy as np\n",
    "import matplotlib.patches as mpatches\n",
    "from matplotlib.collections import PatchCollection\n",
    "import matplotlib.pyplot as plt\n",
    "\n",
    "# module from this repository\n",
    "from node import Node\n",
    "\n",
    "class MarkovChain:\n",
    "\n",
    "    def __init__(self, M, labels):\n",
    "        \"\"\"\n",
    "        Initializes a Markov Chain (for drawing purposes)\n",
    "        Inputs:\n",
    "            - M         Transition Matrix\n",
    "            - labels    State Labels\n",
    "        \"\"\"\n",
    "\n",
    "        if M.shape[0] < 2:\n",
    "            raise Exception(\"There should be at least 2 states\")\n",
    "        if M.shape[0] > 4:\n",
    "            raise Exception(\"Only works with 4 states max for now\")\n",
    "        if M.shape[0] != M.shape[1]:\n",
    "            raise Exception(\"Transition matrix should be square\")\n",
    "        if M.shape[0] != len(labels):\n",
    "            raise Exception(\"There should be as many labels as states\")\n",
    "\n",
    "        self.M = M\n",
    "        self.n_states = M.shape[0]\n",
    "        self.labels = labels\n",
    "\n",
    "        # Colors\n",
    "        self.arrow_facecolor = '#a3a3a3'\n",
    "        self.arrow_edgecolor = '#a3a3a3'\n",
    "\n",
    "        self.node_facecolor = '#2693de'\n",
    "        self.node_edgecolor = '#e6e6e6'\n",
    "\n",
    "        # Drawing config\n",
    "        self.node_radius = 0.5\n",
    "        self.arrow_width = 0.03\n",
    "        self.arrow_head_width = 0.20\n",
    "        self.text_args = {\n",
    "            'ha': 'center',\n",
    "            'va': 'center',\n",
    "            'fontsize': 16\n",
    "        }\n",
    "\n",
    "        # Build the network\n",
    "        self.build_network()\n",
    "\n",
    "\n",
    "    def set_node_centers(self):\n",
    "        \"\"\"\n",
    "        Positions the node centers given the number of states\n",
    "        \"\"\"\n",
    "        # Node positions\n",
    "        self.node_centers = []\n",
    "\n",
    "        if self.n_states == 2:\n",
    "            self.figsize = (10, 4)\n",
    "            self.xlim = (-5, 5)\n",
    "            self.ylim = (-2, 2)\n",
    "            self.node_centers = [[-4,0], [4,0]]\n",
    "        elif self.n_states == 3:\n",
    "            self.figsize = (10, 6)\n",
    "            self.xlim = (-5, 5)\n",
    "            self.ylim = (-3, 3)\n",
    "            self.node_centers = [[-3,-2], [3,-2], [-3,2]]\n",
    "        elif self.n_states == 4:\n",
    "            self.figsize = (8, 8)\n",
    "            self.xlim = (-5, 5)\n",
    "            self.ylim = (-5, 5)\n",
    "            self.node_centers = [[-4,4], [4,4], [4,-4], [-4,-4]]\n",
    "\n",
    "\n",
    "    def build_network(self):\n",
    "        \"\"\"\n",
    "        Loops through the matrix, add the nodes\n",
    "        \"\"\"\n",
    "        # Position the node centers\n",
    "        self.set_node_centers()\n",
    "\n",
    "        # Set the nodes\n",
    "        self.nodes = []\n",
    "        for i in range(self.n_states):\n",
    "            node = Node(\n",
    "                self.node_centers[i],\n",
    "                self.node_radius,\n",
    "                self.labels[i]\n",
    "            )\n",
    "            self.nodes.append(node)\n",
    "\n",
    "\n",
    "    def add_arrow(self, ax, node1, node2, prob=None):\n",
    "        \"\"\"\n",
    "        Add a directed arrow between two nodes\n",
    "        \"\"\"\n",
    "        # x,y start of the arrow\n",
    "        x_start = node1.x + np.sign(node2.x-node1.x) * node1.radius\n",
    "        y_start = node1.y + np.sign(node2.y-node1.y) * node1.radius\n",
    "\n",
    "        # arrow length\n",
    "        dx = abs(node1.x - node2.x) - 2.5* node1.radius\n",
    "        dy = abs(node1.y - node2.y) - 2.5* node1.radius\n",
    "\n",
    "        # we don't want xoffset and yoffset to both be non-nul\n",
    "        yoffset = 0.4 * self.node_radius * np.sign(node2.x-node1.x)\n",
    "        if yoffset == 0:\n",
    "            xoffset = 0.4 * self.node_radius * np.sign(node2.y-node1.y)\n",
    "        else:\n",
    "            xoffset = 0\n",
    "\n",
    "        arrow = mpatches.FancyArrow(\n",
    "            x_start + xoffset,\n",
    "            y_start + yoffset,\n",
    "            dx * np.sign(node2.x-node1.x),\n",
    "            dy * np.sign(node2.y-node1.y),\n",
    "            width = self.arrow_width,\n",
    "            head_width = self.arrow_head_width\n",
    "        )\n",
    "        p = PatchCollection(\n",
    "            [arrow],\n",
    "            edgecolor = self.arrow_edgecolor,\n",
    "            facecolor = self.arrow_facecolor\n",
    "        )\n",
    "        ax.add_collection(p)\n",
    "\n",
    "        # Probability to add?\n",
    "        x_prob = x_start + xoffset + 0.2*dx*np.sign(node2.x-node1.x)\n",
    "        y_prob = y_start + yoffset + 0.2*dy*np.sign(node2.y-node1.y)\n",
    "        if prob:\n",
    "            ax.annotate(str(prob), xy=(x_prob, y_prob), color='#000000', **self.text_args)\n",
    "\n",
    "\n",
    "    def draw(self, img_path=None):\n",
    "        \"\"\"\n",
    "        Draw the Markov Chain\n",
    "        \"\"\"\n",
    "        fig, ax = plt.subplots(figsize=self.figsize)\n",
    "\n",
    "        # Set the axis limits\n",
    "        plt.xlim(self.xlim)\n",
    "        plt.ylim(self.ylim)\n",
    "\n",
    "        # Draw the nodes\n",
    "        for node in self.nodes:\n",
    "            node.add_circle(ax)\n",
    "\n",
    "        # Add the transitions\n",
    "        for i in range(self.M.shape[0]):\n",
    "            for j in range(self.M.shape[1]):\n",
    "                # self loops\n",
    "                if i == j:\n",
    "                    # Loop direction\n",
    "                    if self.nodes[i].y >= 0:\n",
    "                        self.nodes[i].add_self_loop(ax, prob = self.M[i,j], direction='up')\n",
    "                    else:\n",
    "                        self.nodes[i].add_self_loop(ax, prob = self.M[i,j], direction='down')\n",
    "                # directed arrows\n",
    "                elif self.M[i,j] > 0:\n",
    "                    self.add_arrow(ax, self.nodes[i], self.nodes[j], prob = self.M[i,j])\n",
    "\n",
    "        plt.axis('off')\n",
    "        # Save the image to disk?\n",
    "        if img_path:\n",
    "            plt.savefig(img_path)\n",
    "        plt.show()\n"
   ]
  },
  {
   "cell_type": "code",
   "execution_count": null,
   "id": "50748470",
   "metadata": {},
   "outputs": [],
   "source": []
  },
  {
   "cell_type": "code",
   "execution_count": 44,
   "id": "0c557f77",
   "metadata": {},
   "outputs": [],
   "source": [
    "#p1=0.8, p2=0.4, p3=0.1\n",
    "stateNames = [\"Recent\",\"TwoPlusMonths\",\"ThreeMonths\", \"FourPlus\"]\n"
   ]
  },
  {
   "cell_type": "code",
   "execution_count": 84,
   "id": "87dcfa3b",
   "metadata": {},
   "outputs": [
    {
     "data": {
      "text/plain": [
       "array([[0.8 , 0.2 , 0.  , 0.  ],\n",
       "       [0.6 , 0.4 , 0.  , 0.  ],\n",
       "       [0.5 , 0.  , 0.  , 0.5 ],\n",
       "       [0.25, 0.  , 0.  , 0.75]])"
      ]
     },
     "execution_count": 84,
     "metadata": {},
     "output_type": "execute_result"
    }
   ],
   "source": [
    "tMatrix = np.array([\n",
    "    [0.8, 0.2, 0, 0],\n",
    "    [0.6, 0.4, 0, 0],\n",
    "    [0.5, 0, 0, 0.5],\n",
    "    [0.25, 0, 0, .75]\n",
    "])\n",
    "tMatrix"
   ]
  },
  {
   "cell_type": "code",
   "execution_count": 85,
   "id": "5b169ab6",
   "metadata": {},
   "outputs": [
    {
     "data": {
      "image/png": "[encoded data removed]",
      "text/plain": [
       "<Figure size 576x576 with 1 Axes>"
      ]
     },
     "metadata": {
      "needs_background": "light"
     },
     "output_type": "display_data"
    }
   ],
   "source": [
    "mc = MarkovChain(tMatrix, ['1', '2', '3', '4'])\n",
    "mc.draw(\"/Users/mm679j/Documents/2022-MMA831-Python/markov-chain-four-states.png\")\n"
   ]
  },
  {
   "cell_type": "code",
   "execution_count": 49,
   "id": "a32c1fa6",
   "metadata": {},
   "outputs": [],
   "source": [
    "#Recall that the migration model formula for CLV is:\n",
    " \n",
    "def get_clv(df_final, tran_mat, value_vector, d):\n",
    "    \"\"\"calculate clv using migration model formula and combine with the state calculate using function get_transition\"\"\"\n",
    "    \n",
    "    clv = np.dot(inv(np.identity(4) - tran_mat/(1+d)), value_vector)\n",
    "    df_clv = pd.DataFrame(np.transpose(clv))\n",
    "    df_clv['state'] = df_final['state']\n",
    "    df_clv = df_clv.rename(columns = {0: 'CLV'})[['state', 'CLV']]\n",
    "    \n",
    "    return df_clv"
   ]
  },
  {
   "cell_type": "code",
   "execution_count": 52,
   "id": "da60409a",
   "metadata": {},
   "outputs": [],
   "source": [
    "initial_vector = np.array([1000,1000,1000,1000])\n"
   ]
  },
  {
   "cell_type": "code",
   "execution_count": 60,
   "id": "f6f74ad3",
   "metadata": {},
   "outputs": [
    {
     "data": {
      "text/html": [
       "<div>\n",
       "<style scoped>\n",
       "    .dataframe tbody tr th:only-of-type {\n",
       "        vertical-align: middle;\n",
       "    }\n",
       "\n",
       "    .dataframe tbody tr th {\n",
       "        vertical-align: top;\n",
       "    }\n",
       "\n",
       "    .dataframe thead th {\n",
       "        text-align: right;\n",
       "    }\n",
       "</style>\n",
       "<table border=\"1\" class=\"dataframe\">\n",
       "  <thead>\n",
       "    <tr style=\"text-align: right;\">\n",
       "      <th></th>\n",
       "      <th>state</th>\n",
       "      <th>cust_cnt</th>\n",
       "      <th>state_value</th>\n",
       "    </tr>\n",
       "  </thead>\n",
       "  <tbody>\n",
       "    <tr>\n",
       "      <th>0</th>\n",
       "      <td>Recent</td>\n",
       "      <td>1000</td>\n",
       "      <td>40</td>\n",
       "    </tr>\n",
       "    <tr>\n",
       "      <th>1</th>\n",
       "      <td>TwoPlusMonths</td>\n",
       "      <td>1000</td>\n",
       "      <td>30</td>\n",
       "    </tr>\n",
       "    <tr>\n",
       "      <th>2</th>\n",
       "      <td>ThreeMonths</td>\n",
       "      <td>1000</td>\n",
       "      <td>10</td>\n",
       "    </tr>\n",
       "    <tr>\n",
       "      <th>3</th>\n",
       "      <td>FourPlus</td>\n",
       "      <td>1000</td>\n",
       "      <td>3</td>\n",
       "    </tr>\n",
       "  </tbody>\n",
       "</table>\n",
       "</div>"
      ],
      "text/plain": [
       "           state  cust_cnt  state_value\n",
       "0         Recent      1000           40\n",
       "1  TwoPlusMonths      1000           30\n",
       "2    ThreeMonths      1000           10\n",
       "3       FourPlus      1000            3"
      ]
     },
     "execution_count": 60,
     "metadata": {},
     "output_type": "execute_result"
    }
   ],
   "source": [
    "value_vector = np.array([40,30,10,3])\n",
    "\n",
    "\n",
    "data = {'state':[\"Recent\",\"TwoPlusMonths\",\"ThreeMonths\", \"FourPlus\"],\n",
    "        'cust_cnt': [1000,1000,1000,1000],\n",
    "        'state_value': [40, 30, 10, 3]\n",
    "        }\n",
    "\n",
    "df_final = pd.DataFrame(data)\n",
    "\n",
    "df_final"
   ]
  },
  {
   "cell_type": "code",
   "execution_count": null,
   "id": "58cc93a6",
   "metadata": {},
   "outputs": [],
   "source": [
    "df_final"
   ]
  },
  {
   "cell_type": "code",
   "execution_count": null,
   "id": "a1d71d72",
   "metadata": {},
   "outputs": [],
   "source": []
  },
  {
   "cell_type": "code",
   "execution_count": 63,
   "id": "82babfaa",
   "metadata": {},
   "outputs": [
    {
     "data": {
      "text/html": [
       "<div>\n",
       "<style scoped>\n",
       "    .dataframe tbody tr th:only-of-type {\n",
       "        vertical-align: middle;\n",
       "    }\n",
       "\n",
       "    .dataframe tbody tr th {\n",
       "        vertical-align: top;\n",
       "    }\n",
       "\n",
       "    .dataframe thead th {\n",
       "        text-align: right;\n",
       "    }\n",
       "</style>\n",
       "<table border=\"1\" class=\"dataframe\">\n",
       "  <thead>\n",
       "    <tr style=\"text-align: right;\">\n",
       "      <th></th>\n",
       "      <th>state</th>\n",
       "      <th>CLV</th>\n",
       "    </tr>\n",
       "  </thead>\n",
       "  <tbody>\n",
       "    <tr>\n",
       "      <th>0</th>\n",
       "      <td>Recent</td>\n",
       "      <td>420.000000</td>\n",
       "    </tr>\n",
       "    <tr>\n",
       "      <th>1</th>\n",
       "      <td>TwoPlusMonths</td>\n",
       "      <td>410.000000</td>\n",
       "    </tr>\n",
       "    <tr>\n",
       "      <th>2</th>\n",
       "      <td>ThreeMonths</td>\n",
       "      <td>341.558442</td>\n",
       "    </tr>\n",
       "    <tr>\n",
       "      <th>3</th>\n",
       "      <td>FourPlus</td>\n",
       "      <td>309.428571</td>\n",
       "    </tr>\n",
       "  </tbody>\n",
       "</table>\n",
       "</div>"
      ],
      "text/plain": [
       "           state         CLV\n",
       "0         Recent  420.000000\n",
       "1  TwoPlusMonths  410.000000\n",
       "2    ThreeMonths  341.558442\n",
       "3       FourPlus  309.428571"
      ]
     },
     "execution_count": 63,
     "metadata": {},
     "output_type": "execute_result"
    }
   ],
   "source": [
    "df_clv1 = get_clv(df_final, tMatrix, value_vector, d=0.1)\n",
    "df_clv1"
   ]
  },
  {
   "cell_type": "code",
   "execution_count": 78,
   "id": "9558791b",
   "metadata": {},
   "outputs": [
    {
     "data": {
      "text/plain": [
       "array([[0.32768   , 0.00032   , 0.        , 0.        ],\n",
       "       [0.32768   , 0.00032   , 0.        , 0.        ],\n",
       "       [0.03125   , 0.        , 0.        , 0.03125   ],\n",
       "       [0.00097656, 0.        , 0.        , 0.23730469]])"
      ]
     },
     "execution_count": 78,
     "metadata": {},
     "output_type": "execute_result"
    }
   ],
   "source": [
    "#let's say we want to forecast 5 periods into the future\n",
    "pd.options.display.float_format = '{:.5f}'.format\n",
    "np.set_printoptions(suppress=True)\n",
    "\n",
    "\n",
    "p5_prob = np.power(tMatrix, 5)\n",
    "p5_prob\n"
   ]
  },
  {
   "cell_type": "code",
   "execution_count": 79,
   "id": "ebe5bf13",
   "metadata": {},
   "outputs": [
    {
     "data": {
      "text/plain": [
       "array([[0.8 , 0.2 , 0.  , 0.  ],\n",
       "       [0.8 , 0.2 , 0.  , 0.  ],\n",
       "       [0.5 , 0.  , 0.  , 0.5 ],\n",
       "       [0.25, 0.  , 0.  , 0.75]])"
      ]
     },
     "execution_count": 79,
     "metadata": {},
     "output_type": "execute_result"
    }
   ],
   "source": [
    " np.power(tMatrix, 1)"
   ]
  },
  {
   "cell_type": "code",
   "execution_count": 80,
   "id": "833e526b",
   "metadata": {},
   "outputs": [
    {
     "data": {
      "text/plain": [
       "array([[0.64  , 0.04  , 0.    , 0.    ],\n",
       "       [0.64  , 0.04  , 0.    , 0.    ],\n",
       "       [0.25  , 0.    , 0.    , 0.25  ],\n",
       "       [0.0625, 0.    , 0.    , 0.5625]])"
      ]
     },
     "execution_count": 80,
     "metadata": {},
     "output_type": "execute_result"
    }
   ],
   "source": [
    "np.power(tMatrix, 2)"
   ]
  },
  {
   "cell_type": "code",
   "execution_count": 81,
   "id": "f07057b1",
   "metadata": {},
   "outputs": [
    {
     "data": {
      "text/plain": [
       "array([[0.512   , 0.008   , 0.      , 0.      ],\n",
       "       [0.512   , 0.008   , 0.      , 0.      ],\n",
       "       [0.125   , 0.      , 0.      , 0.125   ],\n",
       "       [0.015625, 0.      , 0.      , 0.421875]])"
      ]
     },
     "execution_count": 81,
     "metadata": {},
     "output_type": "execute_result"
    }
   ],
   "source": [
    "np.power(tMatrix, 3)"
   ]
  },
  {
   "cell_type": "code",
   "execution_count": 82,
   "id": "3e7909f8",
   "metadata": {},
   "outputs": [
    {
     "data": {
      "text/plain": [
       "array([[0.01152922, 0.        , 0.        , 0.        ],\n",
       "       [0.01152922, 0.        , 0.        , 0.        ],\n",
       "       [0.00000095, 0.        , 0.        , 0.00000095],\n",
       "       [0.        , 0.        , 0.        , 0.00317121]])"
      ]
     },
     "execution_count": 82,
     "metadata": {},
     "output_type": "execute_result"
    }
   ],
   "source": [
    "np.power(tMatrix, 20)"
   ]
  },
  {
   "cell_type": "code",
   "execution_count": 83,
   "id": "d08d7abd",
   "metadata": {},
   "outputs": [
    {
     "data": {
      "text/plain": [
       "array([[0.00123794, 0.        , 0.        , 0.        ],\n",
       "       [0.00123794, 0.        , 0.        , 0.        ],\n",
       "       [0.        , 0.        , 0.        , 0.        ],\n",
       "       [0.        , 0.        , 0.        , 0.00017858]])"
      ]
     },
     "execution_count": 83,
     "metadata": {},
     "output_type": "execute_result"
    }
   ],
   "source": [
    "np.power(tMatrix, 30)"
   ]
  },
  {
   "cell_type": "code",
   "execution_count": null,
   "id": "6f7c7f08",
   "metadata": {},
   "outputs": [],
   "source": [
    "#let's say we want to forecast 5 periods into the future\n",
    "\n",
    "p5_clv = np.power(tMatrix, 5)*value_vector\n",
    "p5_clv\n",
    "\n",
    "pd.options.display.float_format = '{:.5f}'.format\n",
    "np.set_printoptions(suppress=True)\n",
    "\n",
    "p5_clv\n"
   ]
  },
  {
   "cell_type": "code",
   "execution_count": null,
   "id": "889dd4a8",
   "metadata": {},
   "outputs": [],
   "source": []
  }
 ],
 "metadata": {
  "kernelspec": {
   "display_name": "Python 3 (ipykernel)",
   "language": "python",
   "name": "python3"
  },
  "language_info": {
   "codemirror_mode": {
    "name": "ipython",
    "version": 3
   },
   "file_extension": ".py",
   "mimetype": "text/x-python",
   "name": "python",
   "nbconvert_exporter": "python",
   "pygments_lexer": "ipython3",
   "version": "3.9.12"
  }
 },
 "nbformat": 4,
 "nbformat_minor": 5
}
