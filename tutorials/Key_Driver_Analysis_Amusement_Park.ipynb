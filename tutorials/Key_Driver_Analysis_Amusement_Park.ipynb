{
 "cells": [
  {
   "cell_type": "markdown",
   "id": "2392acad",
   "metadata": {},
   "source": [
    "# Key Driver Analysis - Amusement park NPS data"
   ]
  },
  {
   "cell_type": "markdown",
   "id": "c4c40a0c",
   "metadata": {},
   "source": [
    "### Import dataset"
   ]
  },
  {
   "cell_type": "code",
   "execution_count": 1,
   "id": "15146272",
   "metadata": {},
   "outputs": [
    {
     "data": {
      "text/html": [
       "<div>\n",
       "<style scoped>\n",
       "    .dataframe tbody tr th:only-of-type {\n",
       "        vertical-align: middle;\n",
       "    }\n",
       "\n",
       "    .dataframe tbody tr th {\n",
       "        vertical-align: top;\n",
       "    }\n",
       "\n",
       "    .dataframe thead th {\n",
       "        text-align: right;\n",
       "    }\n",
       "</style>\n",
       "<table border=\"1\" class=\"dataframe\">\n",
       "  <thead>\n",
       "    <tr style=\"text-align: right;\">\n",
       "      <th></th>\n",
       "      <th>weekend</th>\n",
       "      <th>num.child</th>\n",
       "      <th>distance</th>\n",
       "      <th>rides</th>\n",
       "      <th>games</th>\n",
       "      <th>wait</th>\n",
       "      <th>clean</th>\n",
       "      <th>overall</th>\n",
       "    </tr>\n",
       "  </thead>\n",
       "  <tbody>\n",
       "    <tr>\n",
       "      <th>0</th>\n",
       "      <td>yes</td>\n",
       "      <td>0</td>\n",
       "      <td>114.648259</td>\n",
       "      <td>87</td>\n",
       "      <td>73</td>\n",
       "      <td>60</td>\n",
       "      <td>89</td>\n",
       "      <td>47</td>\n",
       "    </tr>\n",
       "    <tr>\n",
       "      <th>1</th>\n",
       "      <td>yes</td>\n",
       "      <td>2</td>\n",
       "      <td>27.014097</td>\n",
       "      <td>87</td>\n",
       "      <td>78</td>\n",
       "      <td>76</td>\n",
       "      <td>87</td>\n",
       "      <td>65</td>\n",
       "    </tr>\n",
       "    <tr>\n",
       "      <th>2</th>\n",
       "      <td>no</td>\n",
       "      <td>1</td>\n",
       "      <td>63.300975</td>\n",
       "      <td>85</td>\n",
       "      <td>80</td>\n",
       "      <td>70</td>\n",
       "      <td>88</td>\n",
       "      <td>61</td>\n",
       "    </tr>\n",
       "    <tr>\n",
       "      <th>3</th>\n",
       "      <td>yes</td>\n",
       "      <td>0</td>\n",
       "      <td>25.909931</td>\n",
       "      <td>88</td>\n",
       "      <td>72</td>\n",
       "      <td>66</td>\n",
       "      <td>89</td>\n",
       "      <td>37</td>\n",
       "    </tr>\n",
       "    <tr>\n",
       "      <th>4</th>\n",
       "      <td>no</td>\n",
       "      <td>4</td>\n",
       "      <td>54.718307</td>\n",
       "      <td>84</td>\n",
       "      <td>87</td>\n",
       "      <td>74</td>\n",
       "      <td>87</td>\n",
       "      <td>68</td>\n",
       "    </tr>\n",
       "  </tbody>\n",
       "</table>\n",
       "</div>"
      ],
      "text/plain": [
       "  weekend  num.child    distance  rides  games  wait  clean  overall\n",
       "0     yes          0  114.648259     87     73    60     89       47\n",
       "1     yes          2   27.014097     87     78    76     87       65\n",
       "2      no          1   63.300975     85     80    70     88       61\n",
       "3     yes          0   25.909931     88     72    66     89       37\n",
       "4      no          4   54.718307     84     87    74     87       68"
      ]
     },
     "execution_count": 1,
     "metadata": {},
     "output_type": "execute_result"
    }
   ],
   "source": [
    "import pandas as pd\n",
    "df= pd.read_csv(\"/Users/mm679j/Documents/2022-MMA831-Python/data/am_park_data.csv\")\n",
    "df.head()"
   ]
  },
  {
   "cell_type": "markdown",
   "id": "66fc1381",
   "metadata": {},
   "source": [
    "### Conduct some exploratory data analysis"
   ]
  },
  {
   "cell_type": "code",
   "execution_count": 2,
   "id": "a331288a",
   "metadata": {},
   "outputs": [
    {
     "data": {
      "text/html": [
       "<div>\n",
       "<style scoped>\n",
       "    .dataframe tbody tr th:only-of-type {\n",
       "        vertical-align: middle;\n",
       "    }\n",
       "\n",
       "    .dataframe tbody tr th {\n",
       "        vertical-align: top;\n",
       "    }\n",
       "\n",
       "    .dataframe thead th {\n",
       "        text-align: right;\n",
       "    }\n",
       "</style>\n",
       "<table border=\"1\" class=\"dataframe\">\n",
       "  <thead>\n",
       "    <tr style=\"text-align: right;\">\n",
       "      <th></th>\n",
       "      <th>num.child</th>\n",
       "      <th>distance</th>\n",
       "      <th>rides</th>\n",
       "      <th>games</th>\n",
       "      <th>wait</th>\n",
       "      <th>clean</th>\n",
       "      <th>overall</th>\n",
       "    </tr>\n",
       "  </thead>\n",
       "  <tbody>\n",
       "    <tr>\n",
       "      <th>count</th>\n",
       "      <td>500.000000</td>\n",
       "      <td>500.000000</td>\n",
       "      <td>500.00000</td>\n",
       "      <td>500.000000</td>\n",
       "      <td>500.000000</td>\n",
       "      <td>500.000000</td>\n",
       "      <td>500.000000</td>\n",
       "    </tr>\n",
       "    <tr>\n",
       "      <th>mean</th>\n",
       "      <td>1.738000</td>\n",
       "      <td>31.047509</td>\n",
       "      <td>85.84600</td>\n",
       "      <td>78.666000</td>\n",
       "      <td>69.896000</td>\n",
       "      <td>87.898000</td>\n",
       "      <td>51.258000</td>\n",
       "    </tr>\n",
       "    <tr>\n",
       "      <th>std</th>\n",
       "      <td>1.495938</td>\n",
       "      <td>33.145445</td>\n",
       "      <td>5.46278</td>\n",
       "      <td>8.123202</td>\n",
       "      <td>10.770757</td>\n",
       "      <td>5.115068</td>\n",
       "      <td>15.878655</td>\n",
       "    </tr>\n",
       "    <tr>\n",
       "      <th>min</th>\n",
       "      <td>0.000000</td>\n",
       "      <td>0.526723</td>\n",
       "      <td>72.00000</td>\n",
       "      <td>57.000000</td>\n",
       "      <td>40.000000</td>\n",
       "      <td>74.000000</td>\n",
       "      <td>6.000000</td>\n",
       "    </tr>\n",
       "    <tr>\n",
       "      <th>25%</th>\n",
       "      <td>0.000000</td>\n",
       "      <td>10.318091</td>\n",
       "      <td>82.00000</td>\n",
       "      <td>73.000000</td>\n",
       "      <td>62.000000</td>\n",
       "      <td>84.000000</td>\n",
       "      <td>40.000000</td>\n",
       "    </tr>\n",
       "    <tr>\n",
       "      <th>50%</th>\n",
       "      <td>2.000000</td>\n",
       "      <td>19.019093</td>\n",
       "      <td>86.00000</td>\n",
       "      <td>78.000000</td>\n",
       "      <td>70.000000</td>\n",
       "      <td>88.000000</td>\n",
       "      <td>50.000000</td>\n",
       "    </tr>\n",
       "    <tr>\n",
       "      <th>75%</th>\n",
       "      <td>3.000000</td>\n",
       "      <td>39.582050</td>\n",
       "      <td>90.00000</td>\n",
       "      <td>85.000000</td>\n",
       "      <td>77.000000</td>\n",
       "      <td>91.000000</td>\n",
       "      <td>62.000000</td>\n",
       "    </tr>\n",
       "    <tr>\n",
       "      <th>max</th>\n",
       "      <td>5.000000</td>\n",
       "      <td>239.192134</td>\n",
       "      <td>100.00000</td>\n",
       "      <td>100.000000</td>\n",
       "      <td>100.000000</td>\n",
       "      <td>100.000000</td>\n",
       "      <td>100.000000</td>\n",
       "    </tr>\n",
       "  </tbody>\n",
       "</table>\n",
       "</div>"
      ],
      "text/plain": [
       "        num.child    distance      rides       games        wait       clean  \\\n",
       "count  500.000000  500.000000  500.00000  500.000000  500.000000  500.000000   \n",
       "mean     1.738000   31.047509   85.84600   78.666000   69.896000   87.898000   \n",
       "std      1.495938   33.145445    5.46278    8.123202   10.770757    5.115068   \n",
       "min      0.000000    0.526723   72.00000   57.000000   40.000000   74.000000   \n",
       "25%      0.000000   10.318091   82.00000   73.000000   62.000000   84.000000   \n",
       "50%      2.000000   19.019093   86.00000   78.000000   70.000000   88.000000   \n",
       "75%      3.000000   39.582050   90.00000   85.000000   77.000000   91.000000   \n",
       "max      5.000000  239.192134  100.00000  100.000000  100.000000  100.000000   \n",
       "\n",
       "          overall  \n",
       "count  500.000000  \n",
       "mean    51.258000  \n",
       "std     15.878655  \n",
       "min      6.000000  \n",
       "25%     40.000000  \n",
       "50%     50.000000  \n",
       "75%     62.000000  \n",
       "max    100.000000  "
      ]
     },
     "execution_count": 2,
     "metadata": {},
     "output_type": "execute_result"
    }
   ],
   "source": [
    "#example - use .dscribe to see basic stats about each colum\n",
    "df.describe()"
   ]
  },
  {
   "cell_type": "code",
   "execution_count": null,
   "id": "ca69a44b",
   "metadata": {},
   "outputs": [],
   "source": [
    "#Histograms"
   ]
  },
  {
   "cell_type": "code",
   "execution_count": null,
   "id": "7ad85f77",
   "metadata": {},
   "outputs": [],
   "source": [
    "#Correlation matrix, check for multi-colinearity"
   ]
  },
  {
   "cell_type": "code",
   "execution_count": null,
   "id": "0a8277d6",
   "metadata": {},
   "outputs": [],
   "source": [
    "#"
   ]
  },
  {
   "cell_type": "markdown",
   "id": "7834a9ae",
   "metadata": {},
   "source": [
    "### Data Transformations"
   ]
  },
  {
   "cell_type": "code",
   "execution_count": null,
   "id": "94e0bb48",
   "metadata": {},
   "outputs": [],
   "source": [
    "#Are there any data transformation we want to make (to deal with skew, check for nulls, etc.?)"
   ]
  },
  {
   "cell_type": "code",
   "execution_count": null,
   "id": "5d32077a",
   "metadata": {},
   "outputs": [],
   "source": [
    "#"
   ]
  },
  {
   "cell_type": "code",
   "execution_count": null,
   "id": "b15e01a4",
   "metadata": {},
   "outputs": [],
   "source": [
    "#"
   ]
  },
  {
   "cell_type": "markdown",
   "id": "68930244",
   "metadata": {},
   "source": [
    "### Model fitting"
   ]
  },
  {
   "cell_type": "code",
   "execution_count": null,
   "id": "2252e7fd",
   "metadata": {},
   "outputs": [],
   "source": [
    "#Use sample code from in class tutorial and adjust to run regression for key driver analysis\n",
    "#what is your target variabe?"
   ]
  },
  {
   "cell_type": "code",
   "execution_count": 5,
   "id": "53c5eb9e",
   "metadata": {},
   "outputs": [],
   "source": [
    "df_clean=df"
   ]
  },
  {
   "cell_type": "code",
   "execution_count": 7,
   "id": "febda828",
   "metadata": {},
   "outputs": [
    {
     "name": "stdout",
     "output_type": "stream",
     "text": [
      "                            OLS Regression Results                            \n",
      "==============================================================================\n",
      "Dep. Variable:                overall   R-squared:                       0.559\n",
      "Model:                            OLS   Adj. R-squared:                  0.555\n",
      "Method:                 Least Squares   F-statistic:                     156.6\n",
      "Date:                Sat, 01 Oct 2022   Prob (F-statistic):           1.72e-86\n",
      "Time:                        19:43:39   Log-Likelihood:                -1887.0\n",
      "No. Observations:                 500   AIC:                             3784.\n",
      "Df Residuals:                     495   BIC:                             3805.\n",
      "Df Model:                           4                                         \n",
      "Covariance Type:            nonrobust                                         \n",
      "==============================================================================\n",
      "                 coef    std err          t      P>|t|      [0.025      0.975]\n",
      "------------------------------------------------------------------------------\n",
      "Intercept   -131.4092      8.334    -15.768      0.000    -147.783    -115.035\n",
      "rides          0.5291      0.142      3.724      0.000       0.250       0.808\n",
      "games          0.1533      0.069      2.220      0.027       0.018       0.289\n",
      "wait           0.5533      0.048     11.573      0.000       0.459       0.647\n",
      "clean          0.9842      0.160      6.156      0.000       0.670       1.298\n",
      "==============================================================================\n",
      "Omnibus:                       10.422   Durbin-Watson:                   1.971\n",
      "Prob(Omnibus):                  0.005   Jarque-Bera (JB):               10.767\n",
      "Skew:                          -0.347   Prob(JB):                      0.00459\n",
      "Kurtosis:                       2.814   Cond. No.                     2.85e+03\n",
      "==============================================================================\n",
      "\n",
      "Notes:\n",
      "[1] Standard Errors assume that the covariance matrix of the errors is correctly specified.\n",
      "[2] The condition number is large, 2.85e+03. This might indicate that there are\n",
      "strong multicollinearity or other numerical problems.\n"
     ]
    }
   ],
   "source": [
    "#import statsmodels.formula.api as sm\n",
    "model = sm.ols(formula=\"overall ~ rides + games + wait + clean\", data=df_clean).fit()\n",
    "print(model.summary())"
   ]
  },
  {
   "cell_type": "code",
   "execution_count": null,
   "id": "5086cea7",
   "metadata": {},
   "outputs": [],
   "source": []
  },
  {
   "cell_type": "code",
   "execution_count": 8,
   "id": "1f8cd1a9",
   "metadata": {},
   "outputs": [
    {
     "data": {
      "text/plain": [
       "Intercept   -131.409194\n",
       "rides          0.529078\n",
       "games          0.153336\n",
       "wait           0.553326\n",
       "clean          0.984213\n",
       "dtype: float64"
      ]
     },
     "execution_count": 8,
     "metadata": {},
     "output_type": "execute_result"
    }
   ],
   "source": [
    "## note you can access coefficient, CI, and covariate names from model object\n",
    "model1.params\n",
    "model1.conf_int()\n",
    "err_series = lin_reg.params - lin_reg.conf_int()[0]\n"
   ]
  },
  {
   "cell_type": "code",
   "execution_count": 18,
   "id": "ca921758",
   "metadata": {},
   "outputs": [
    {
     "data": {
      "text/plain": [
       "['rides', 'games', 'wait', 'clean']"
      ]
     },
     "execution_count": 18,
     "metadata": {},
     "output_type": "execute_result"
    }
   ],
   "source": [
    "# first we canculate error bar lenghts:\n",
    "err_series = model1.params - model1.conf_int()[0]\n",
    "\n",
    "#also we usually don't care about intercepts so keep everything from index 1 onwards\n",
    "coef_df = pd.DataFrame({'coef': model1.params.values[1:],\n",
    "                        'err': err_series.values[1:],\n",
    "                        'varname': err_series.index.values[1:]\n",
    "                       })\n",
    "coef_df\n"
   ]
  },
  {
   "cell_type": "code",
   "execution_count": 22,
   "id": "547f90c3",
   "metadata": {},
   "outputs": [
    {
     "data": {
      "image/png": "[encoded data removed]",
      "text/plain": [
       "<Figure size 576x360 with 1 Axes>"
      ]
     },
     "metadata": {
      "needs_background": "light"
     },
     "output_type": "display_data"
    }
   ],
   "source": [
    "## Code sample below will create a simple plot of coefficients\n",
    "from matplotlib import pyplot as plt\n",
    "import numpy as np\n",
    "colnames=list(coef_df['varname'])\n",
    "\n",
    "fig, ax = plt.subplots(figsize=(8, 5))\n",
    "coef_df.plot(x='varname', y='coef', kind='bar', \n",
    "             ax=ax, color='none', \n",
    "             yerr='err', legend=False)\n",
    "ax.set_ylabel('')\n",
    "ax.set_xlabel('')\n",
    "ax.scatter(x=np.arange(coef_df.shape[0]), \n",
    "           marker='s', s=120, \n",
    "           y=coef_df['coef'], color='black')\n",
    "ax.axhline(y=0, linestyle='--', color='black', linewidth=4)\n",
    "ax.xaxis.set_ticks_position('none')\n",
    "_ = ax.set_xticklabels(colnames, \n",
    "                       rotation=0, fontsize=16)"
   ]
  },
  {
   "cell_type": "code",
   "execution_count": null,
   "id": "f63367ae",
   "metadata": {},
   "outputs": [],
   "source": []
  }
 ],
 "metadata": {
  "kernelspec": {
   "display_name": "Python 3 (ipykernel)",
   "language": "python",
   "name": "python3"
  },
  "language_info": {
   "codemirror_mode": {
    "name": "ipython",
    "version": 3
   },
   "file_extension": ".py",
   "mimetype": "text/x-python",
   "name": "python",
   "nbconvert_exporter": "python",
   "pygments_lexer": "ipython3",
   "version": "3.9.12"
  }
 },
 "nbformat": 4,
 "nbformat_minor": 5
}
